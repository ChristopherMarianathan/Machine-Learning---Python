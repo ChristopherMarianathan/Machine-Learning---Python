{
 "cells": [
  {
   "cell_type": "markdown",
   "metadata": {},
   "source": [
    "# Predicting the success of Promotional offer (Classification)"
   ]
  },
  {
   "cell_type": "markdown",
   "metadata": {},
   "source": [
    "## Business Case:\n",
    "\n",
    "Apprentice Chef provides gourmet meals which require minimal cooking. They can be ordered through online platform or mobile application. The meals are targeted towards San Francisco working professionals who want to have healthy food but do not have enough time to prepare it. Apprentice Chef has collected customer data over the past year and wants to leverage it to determine if their promotional offer will be a success. We will be build various statistical models centered around this objective and select the best one based on performance."
   ]
  },
  {
   "cell_type": "code",
   "execution_count": 1,
   "metadata": {},
   "outputs": [],
   "source": [
    "##############################################################################\n",
    "\"\"\" Classification Modelling - Assignment 2 - Christopher Pramodh\"\"\"\n",
    "##############################################################################\n",
    "\n",
    "# importing libraries ########################################################\n",
    "import pandas as pd # data science essentials\n",
    "import matplotlib.pyplot as plt # essential graphical output\n",
    "import seaborn as sns # enhanced graphical output\n",
    "import statsmodels.formula.api as smf # predictive modeling with nice outputs\n",
    "import random as rand # random number generation\n",
    "import gender_guesser.detector as gender # guess gender based on (given) name\n",
    "from sklearn.model_selection import train_test_split # train/test split\n",
    "from sklearn.linear_model import LinearRegression#linear regression(scikit-learn)\n",
    "import sklearn.linear_model # linear models\n",
    "from sklearn.preprocessing import StandardScaler\n",
    "# libraries for classification trees\n",
    "from sklearn.tree import DecisionTreeClassifier      # classification trees\n",
    "from sklearn.tree import export_graphviz             # exports graphics\n",
    "from six import StringIO           # saves objects in memory\n",
    "from IPython.display import Image                    # displays on frontend\n",
    "import pydotplus \n",
    "# packages for Hyperparameter\n",
    "from sklearn.model_selection import RandomizedSearchCV# hyperparameter tuning\n",
    "from sklearn.metrics import make_scorer              # customizable scorer\n",
    "# packages for Random forest and GBM\n",
    "from sklearn.ensemble import RandomForestClassifier     # random forest\n",
    "from sklearn.ensemble import GradientBoostingClassifier # gbm\n",
    "##############################################################################\n",
    "# setting pandas print options\n",
    "pd.set_option('display.max_rows', 500)\n",
    "pd.set_option('display.max_columns', 500)\n",
    "pd.set_option('display.width', 1000)\n",
    "\n",
    "\n",
    "# specifying file name\n",
    "file = './Apprentice_Chef_Dataset.xlsx'\n",
    "\n",
    "\n",
    "# reading the file into Python\n",
    "apprentice = pd.read_excel(io=file)\n"
   ]
  },
  {
   "cell_type": "code",
   "execution_count": 2,
   "metadata": {},
   "outputs": [],
   "source": [
    "##############################################################################\n",
    "\"\"\"                                Loading UDFs                            \"\"\" \n",
    "##############################################################################\n",
    "\n",
    "# optimal_neighbors for KNN\n",
    "##############################################################################\n",
    "def optimal_neighbors(x_data,\n",
    "                      y_data,\n",
    "                      standardize = True,\n",
    "                      pct_test=0.25,\n",
    "                      seed=219,\n",
    "                      response_type='reg',\n",
    "                      max_neighbors=20,\n",
    "                      show_viz=True):\n",
    "    \"\"\"\n",
    "Exhaustively compute training and testing results for KNN across\n",
    "[1, max_neighbors]. Outputs the maximum test score and (by default) a\n",
    "visualization of the results.\n",
    "PARAMETERS\n",
    "----------\n",
    "X_data        : explanatory variable data\n",
    "y_data        : response variable\n",
    "standardize   : whether or not to standardize the X data, default True\n",
    "pct_test      : test size for training and validation from (0,1), default 0.25\n",
    "seed          : random seed to be used in algorithm, default 219\n",
    "response_type : type of neighbors algorithm to use, default 'reg'\n",
    "    Use 'reg' for regression (KNeighborsRegressor)\n",
    "    Use 'class' for classification (KNeighborsClassifier)\n",
    "max_neighbors : maximum number of neighbors in exhaustive search, default 20\n",
    "show_viz      : display or surpress k-neigbors visualization, default True\n",
    "\"\"\"    \n",
    "    \n",
    "    \n",
    "    if standardize == True:\n",
    "        # optionally standardizing X_data\n",
    "        scaler             = StandardScaler()\n",
    "        scaler.fit(x_data)\n",
    "        x_scaled           = scaler.transform(x_data)\n",
    "        x_scaled_df        = pd.DataFrame(x_scaled)\n",
    "        x_data             = x_scaled_df\n",
    "\n",
    "\n",
    "\n",
    "    # train-test split\n",
    "    x_train, x_test, y_train, y_test = train_test_split(x_data,\n",
    "                                                        y_data,\n",
    "                                                        test_size = pct_test,\n",
    "                                                        random_state = seed)\n",
    "\n",
    "\n",
    "    # creating lists for training set accuracy and test set accuracy\n",
    "    training_accuracy = []\n",
    "    test_accuracy = []\n",
    "    \n",
    "    \n",
    "    # setting neighbor range\n",
    "    neighbors_settings = range(1, max_neighbors + 1)\n",
    "\n",
    "\n",
    "    for n_neighbors in neighbors_settings:\n",
    "        # building the model based on response variable type\n",
    "        if response_type == 'reg':\n",
    "            clf = KNeighborsRegressor(n_neighbors = n_neighbors)\n",
    "            clf.fit(x_train, y_train)\n",
    "            \n",
    "        elif response_type == 'class':\n",
    "            clf = KNeighborsClassifier(n_neighbors = n_neighbors)\n",
    "            clf.fit(x_train, y_train)            \n",
    "            \n",
    "        else:\n",
    "            print(\"Error: response_type must be 'reg' or 'class'\")\n",
    "        \n",
    "        \n",
    "        # recording the training set accuracy\n",
    "        training_accuracy.append(clf.score(x_train, y_train))\n",
    "    \n",
    "        # recording the generalization accuracy\n",
    "        test_accuracy.append(clf.score(x_test, y_test))\n",
    "\n",
    "\n",
    "    # optionally displaying visualization\n",
    "    if show_viz == True:\n",
    "        # plotting the visualization\n",
    "        fig, ax = plt.subplots(figsize=(12,8))\n",
    "        plt.plot(neighbors_settings, training_accuracy, label = \"training accuracy\")\n",
    "        plt.plot(neighbors_settings, test_accuracy, label = \"test accuracy\")\n",
    "        plt.ylabel(\"Accuracy\")\n",
    "        plt.xlabel(\"n_neighbors\")\n",
    "        plt.legend()\n",
    "        plt.show()\n",
    "    \n",
    "    \n",
    "    # returning optimal number of neighbors\n",
    "    print(f\"The optimal number of neighbors is: {test_accuracy.index(max(test_accuracy))+1}\")\n",
    "    return test_accuracy.index(max(test_accuracy))+1\n",
    "\n",
    "\n",
    "##############################################################################\n",
    "# visual_cm - for viewing confusion matrix\n",
    "##############################################################################\n",
    "def visual_cm(true_y, pred_y, labels = None):\n",
    "    \"\"\"\n",
    "Creates a visualization of a confusion matrix.\n",
    "\n",
    "PARAMETERS\n",
    "----------\n",
    "true_y : true values for the response variable\n",
    "pred_y : predicted values for the response variable\n",
    "labels : , default None\n",
    "    \"\"\"\n",
    "    # visualizing the confusion matrix\n",
    "\n",
    "    # setting labels\n",
    "    lbls = labels\n",
    "    \n",
    "\n",
    "    # declaring a confusion matrix object\n",
    "    cm = confusion_matrix(y_true = true_y,\n",
    "                          y_pred = pred_y)\n",
    "\n",
    "\n",
    "    # heatmap\n",
    "    sns.heatmap(cm,\n",
    "                annot       = True,\n",
    "                xticklabels = lbls,\n",
    "                yticklabels = lbls,\n",
    "                cmap        = 'Blues',\n",
    "                fmt         = 'g')\n",
    "\n",
    "\n",
    "    plt.xlabel('Predicted')\n",
    "    plt.ylabel('Actual')\n",
    "    plt.title('Confusion Matrix of the Classifier')\n",
    "    plt.show()\n",
    "    \n",
    "# \n",
    "##############################################################################\n",
    "# display_tree\n",
    "##############################################################################\n",
    "def display_tree(tree, feature_df, height = 500, width = 800):\n",
    "    \"\"\"\n",
    "    PARAMETERS\n",
    "    ----------\n",
    "    tree       : fitted tree model object\n",
    "        fitted CART model to visualized\n",
    "    feature_df : DataFrame\n",
    "        DataFrame of explanatory features (used to generate labels)\n",
    "    height     : int, default 500\n",
    "        height in pixels to which to constrain image in html\n",
    "    width      : int, default 800\n",
    "        width in pixels to which to constrain image in html\n",
    "    \"\"\"\n",
    "\n",
    "    # visualizing the tree\n",
    "    dot_data = StringIO()\n",
    "\n",
    "    \n",
    "    # exporting tree to graphviz\n",
    "    export_graphviz(decision_tree      = tree,\n",
    "                    out_file           = dot_data,\n",
    "                    filled             = True,\n",
    "                    rounded            = True,\n",
    "                    special_characters = True,\n",
    "                    feature_names      = feature_df.columns)\n",
    "\n",
    "\n",
    "    # declaring a graph object\n",
    "    graph = pydotplus.graph_from_dot_data(dot_data.getvalue())\n",
    "\n",
    "\n",
    "    # creating image\n",
    "    img = Image(graph.create_png(),\n",
    "                height = height,\n",
    "                width  = width)\n",
    "    \n",
    "    return img\n",
    "\n",
    "##############################################################################\n",
    "# plot_feature_importances - important features in models\n",
    "##############################################################################\n",
    "def plot_feature_importances(model, train, export = False):\n",
    "    \"\"\"\n",
    "    Plots the importance of features from a CART model.\n",
    "    \n",
    "    PARAMETERS\n",
    "    ----------\n",
    "    model  : CART model\n",
    "    train  : explanatory variable training data\n",
    "    export : whether or not to export as a .png image, default False\n",
    "    \"\"\"\n",
    "    \n",
    "    # declaring the number\n",
    "    n_features = x_train.shape[1]\n",
    "    \n",
    "    # setting plot window\n",
    "    fig, ax = plt.subplots(figsize=(12,9))\n",
    "    \n",
    "    plt.barh(range(n_features), model.feature_importances_, align='center')\n",
    "    plt.yticks(pd.np.arange(n_features), train.columns)\n",
    "    plt.xlabel(\"Feature importance\")\n",
    "    plt.ylabel(\"Feature\")\n",
    "    \n",
    "    if export == True:\n",
    "        plt.savefig('Tree_Leaf_50_Feature_Importance.png')\n",
    "\n",
    "\n",
    "# text_split_feature\n",
    "#########################\n",
    "def text_split_feature(col, df, sep=' ', new_col_name='number_of_names'):\n",
    "    \"\"\"\n",
    "Splits values in a string Series (as part of a DataFrame) and sums the number\n",
    "of resulting items. Automatically appends summed column to original DataFrame.\n",
    "\n",
    "PARAMETERS\n",
    "----------\n",
    "col          : column to split\n",
    "df           : DataFrame where column is located\n",
    "sep          : string sequence to split by, default ' '\n",
    "new_col_name : name of new column after summing split, default\n",
    "               'number_of_names'\n",
    "\"\"\"\n",
    "    \n",
    "    df[new_col_name] = 0\n",
    "    \n",
    "    \n",
    "    for index, val in df.iterrows():\n",
    "        df.loc[index, new_col_name] = len(df.loc[index, col].split(sep = ' '))\n"
   ]
  },
  {
   "cell_type": "markdown",
   "metadata": {},
   "source": [
    "The customer data collected contains data from 1946 customers. This data provides us 30 features for each customer including revenue. We shall further examine this data."
   ]
  },
  {
   "cell_type": "code",
   "execution_count": 3,
   "metadata": {},
   "outputs": [
    {
     "name": "stdout",
     "output_type": "stream",
     "text": [
      "\n",
      "Size of Original Dataset\n",
      "------------------------\n",
      "Observations: 1946\n",
      "Features:     30\n",
      "\n"
     ]
    }
   ],
   "source": [
    "##############################################################################\n",
    "\"\"\"                          Feature Engineering                           \"\"\"\n",
    "##############################################################################\n",
    "# Feature Engineering 1.1\n",
    "# formatting and printing the dimensions of the dataset\n",
    "print(f\"\"\"\n",
    "Size of Original Dataset\n",
    "------------------------\n",
    "Observations: {apprentice.shape[0]}\n",
    "Features:     {apprentice.shape[1]}\n",
    "\"\"\")"
   ]
  },
  {
   "cell_type": "markdown",
   "metadata": {},
   "source": [
    "## Cleaning and Exploring the data:"
   ]
  },
  {
   "cell_type": "markdown",
   "metadata": {},
   "source": [
    "We have received information that the feature 'LARGEST_ORDER_SIZE' was mislabeled. It should actually be called 'AVERAGE_ORDER_SIZE'. Lets fix it."
   ]
  },
  {
   "cell_type": "code",
   "execution_count": 3,
   "metadata": {},
   "outputs": [],
   "source": [
    "# Feature Engineering 1.2\n",
    "# The column LARGEST_ORDER_SIZE was mislabelled. It is the average order size of the customer.\n",
    "apprentice = apprentice.rename(columns={'LARGEST_ORDER_SIZE':'AVERAGE_ORDER_SIZE'})"
   ]
  },
  {
   "cell_type": "markdown",
   "metadata": {},
   "source": [
    "Let us analyze the distribution of the data under each feature so that we can visually classify them as:\n",
    "\n",
    "Continuous : These features have infinite number of values between two data points, for example time.\n",
    "\n",
    "Categorical: Unlike continuous features, these have finite groups. They might not be logically ordered.\n",
    "\n",
    "Discrete: Like categorical, these have distinct groups but they are numeric and are countable."
   ]
  },
  {
   "cell_type": "code",
   "execution_count": 4,
   "metadata": {
    "code_folding": []
   },
   "outputs": [
    {
     "data": {
      "image/png": "[encoded data removed]",
      "text/plain": [
       "<Figure size 432x216 with 1 Axes>"
      ]
     },
     "metadata": {
      "needs_background": "light"
     },
     "output_type": "display_data"
    },
    {
     "data": {
      "image/png": "[encoded data removed]",
      "text/plain": [
       "<Figure size 432x216 with 1 Axes>"
      ]
     },
     "metadata": {
      "needs_background": "light"
     },
     "output_type": "display_data"
    },
    {
     "data": {
      "image/png": "[encoded data removed]",
      "text/plain": [
       "<Figure size 432x216 with 1 Axes>"
      ]
     },
     "metadata": {
      "needs_background": "light"
     },
     "output_type": "display_data"
    },
    {
     "data": {
      "image/png": "[encoded data removed]",
      "text/plain": [
       "<Figure size 432x216 with 1 Axes>"
      ]
     },
     "metadata": {
      "needs_background": "light"
     },
     "output_type": "display_data"
    },
    {
     "data": {
      "image/png": "[encoded data removed]",
      "text/plain": [
       "<Figure size 432x216 with 1 Axes>"
      ]
     },
     "metadata": {
      "needs_background": "light"
     },
     "output_type": "display_data"
    },
    {
     "data": {
      "image/png": "[encoded data removed]",
      "text/plain": [
       "<Figure size 432x216 with 1 Axes>"
      ]
     },
     "metadata": {
      "needs_background": "light"
     },
     "output_type": "display_data"
    },
    {
     "data": {
      "image/png": "[encoded data removed]",
      "text/plain": [
       "<Figure size 432x216 with 1 Axes>"
      ]
     },
     "metadata": {
      "needs_background": "light"
     },
     "output_type": "display_data"
    },
    {
     "data": {
      "image/png": "[encoded data removed]",
      "text/plain": [
       "<Figure size 432x216 with 1 Axes>"
      ]
     },
     "metadata": {
      "needs_background": "light"
     },
     "output_type": "display_data"
    },
    {
     "data": {
      "image/png": "[encoded data removed]",
      "text/plain": [
       "<Figure size 432x216 with 1 Axes>"
      ]
     },
     "metadata": {
      "needs_background": "light"
     },
     "output_type": "display_data"
    },
    {
     "data": {
      "image/png": "[encoded data removed]",
      "text/plain": [
       "<Figure size 432x216 with 1 Axes>"
      ]
     },
     "metadata": {
      "needs_background": "light"
     },
     "output_type": "display_data"
    },
    {
     "data": {
      "image/png": "[encoded data removed]",
      "text/plain": [
       "<Figure size 432x216 with 1 Axes>"
      ]
     },
     "metadata": {
      "needs_background": "light"
     },
     "output_type": "display_data"
    },
    {
     "data": {
      "image/png": "[encoded data removed]",
      "text/plain": [
       "<Figure size 432x216 with 1 Axes>"
      ]
     },
     "metadata": {
      "needs_background": "light"
     },
     "output_type": "display_data"
    },
    {
     "data": {
      "image/png": "[encoded data removed]",
      "text/plain": [
       "<Figure size 432x216 with 1 Axes>"
      ]
     },
     "metadata": {
      "needs_background": "light"
     },
     "output_type": "display_data"
    },
    {
     "data": {
      "image/png": "[encoded data removed]",
      "text/plain": [
       "<Figure size 432x216 with 1 Axes>"
      ]
     },
     "metadata": {
      "needs_background": "light"
     },
     "output_type": "display_data"
    },
    {
     "data": {
      "image/png": "[encoded data removed]",
      "text/plain": [
       "<Figure size 432x216 with 1 Axes>"
      ]
     },
     "metadata": {
      "needs_background": "light"
     },
     "output_type": "display_data"
    },
    {
     "data": {
      "image/png": "[encoded data removed]",
      "text/plain": [
       "<Figure size 432x216 with 1 Axes>"
      ]
     },
     "metadata": {
      "needs_background": "light"
     },
     "output_type": "display_data"
    },
    {
     "data": {
      "image/png": "[encoded data removed]",
      "text/plain": [
       "<Figure size 432x216 with 1 Axes>"
      ]
     },
     "metadata": {
      "needs_background": "light"
     },
     "output_type": "display_data"
    },
    {
     "data": {
      "image/png": "[encoded data removed]",
      "text/plain": [
       "<Figure size 432x216 with 1 Axes>"
      ]
     },
     "metadata": {
      "needs_background": "light"
     },
     "output_type": "display_data"
    },
    {
     "data": {
      "image/png": "[encoded data removed]",
      "text/plain": [
       "<Figure size 432x216 with 1 Axes>"
      ]
     },
     "metadata": {
      "needs_background": "light"
     },
     "output_type": "display_data"
    },
    {
     "data": {
      "image/png": "[encoded data removed]",
      "text/plain": [
       "<Figure size 432x216 with 1 Axes>"
      ]
     },
     "metadata": {
      "needs_background": "light"
     },
     "output_type": "display_data"
    },
    {
     "data": {
      "image/png": "[encoded data removed]",
      "text/plain": [
       "<Figure size 432x216 with 1 Axes>"
      ]
     },
     "metadata": {
      "needs_background": "light"
     },
     "output_type": "display_data"
    },
    {
     "data": {
      "image/png": "[encoded data removed]",
      "text/plain": [
       "<Figure size 432x216 with 1 Axes>"
      ]
     },
     "metadata": {
      "needs_background": "light"
     },
     "output_type": "display_data"
    },
    {
     "data": {
      "image/png": "[encoded data removed]",
      "text/plain": [
       "<Figure size 432x216 with 1 Axes>"
      ]
     },
     "metadata": {
      "needs_background": "light"
     },
     "output_type": "display_data"
    },
    {
     "data": {
      "image/png": "[encoded data removed]",
      "text/plain": [
       "<Figure size 432x216 with 1 Axes>"
      ]
     },
     "metadata": {
      "needs_background": "light"
     },
     "output_type": "display_data"
    }
   ],
   "source": [
    "# Feature Engineering 1.3\n",
    "# Creating a list of column names except for categorical/qualitative\n",
    "all_variables = ['REVENUE', 'CROSS_SELL_SUCCESS',\n",
    "                 'TOTAL_MEALS_ORDERED', 'UNIQUE_MEALS_PURCH', \n",
    "                 'CONTACTS_W_CUSTOMER_SERVICE',  'PRODUCT_CATEGORIES_VIEWED',\n",
    "                 'AVG_TIME_PER_SITE_VISIT',  'MOBILE_NUMBER', \n",
    "                 'CANCELLATIONS_BEFORE_NOON',  'CANCELLATIONS_AFTER_NOON',\n",
    "                 'TASTES_AND_PREFERENCES', 'PC_LOGINS', 'MOBILE_LOGINS', \n",
    "                 'WEEKLY_PLAN', 'EARLY_DELIVERIES', 'LATE_DELIVERIES', \n",
    "                 'PACKAGE_LOCKER', 'REFRIGERATED_LOCKER',  'AVG_PREP_VID_TIME',\n",
    "                 'AVERAGE_ORDER_SIZE', 'MASTER_CLASSES_ATTENDED', \n",
    "                 'MEDIAN_MEAL_RATING', 'AVG_CLICKS_PER_VISIT', 'TOTAL_PHOTOS_VIEWED']\n",
    "\n",
    "# Creating a loop for finding out the distributions of each feature in all_variables\n",
    "# This exercise is done to determine if the feature is continuous or an interval\n",
    "# or even to find skewness for log transformations.\n",
    "\n",
    "for x in all_variables:\n",
    "     \n",
    "    # developing a histogram using DISPLOT\n",
    "    sns.displot(data   = apprentice,\n",
    "                x      = apprentice[x],\n",
    "                height = 3,\n",
    "               aspect = 2)\n",
    "    plt.show() \n",
    "    \n",
    "    \n"
   ]
  },
  {
   "cell_type": "raw",
   "metadata": {},
   "source": [
    "Classification of variables based on distribtutions\n",
    "----------------------------------------------------\n",
    "CONTINUOUS VARIABLES\n",
    "----------------------\n",
    "REVENUE\n",
    "CROSS_SELL_SUCCESS (binary)\n",
    "TOTAL_MEALS_ORDERED\t\n",
    "UNIQUE_MEALS_PURCH\t\n",
    "CONTACTS_W_CUSTOMER_SERVICE\t\n",
    "AVG_TIME_PER_SITE_VISIT\n",
    "MOBILE_NUMBER (binary)\n",
    "CANCELLATIONS_BEFORE_NOON\t\n",
    "CANCELLATIONS_AFTER_NOON\t\n",
    "TASTES_AND_PREFERENCES (binary)\n",
    "PC_LOGINS\t\n",
    "MOBILE_LOGINS\n",
    "EARLY_DELIVERIES\t\n",
    "LATE_DELIVERIES\t\n",
    "PACKAGE_LOCKER (binary)\n",
    "REFRIGERATED_LOCKER (binary)\n",
    "AVG_PREP_VID_TIME\t\n",
    "AVERAGE_ORDER_SIZE\t\n",
    "AVG_CLICKS_PER_VISIT\n",
    "TOTAL_PHOTOS_VIEWED\n",
    "\n",
    "DISCRETE VARIABLES\n",
    "---------------------------\n",
    "PRODUCT_CATEGORIES_VIEWED (out of 10)\n",
    "MEDIAN_MEAL_RATING (out of 5)\n",
    "MASTER_CLASSES_ATTENDED (out of 3)\n",
    "\n",
    "CATEGORICAL VARIABLES\n",
    "----------------------------------\n",
    "NAME\t\n",
    "EMAIL\t\n",
    "FIRST_NAME\t\n",
    "FAMILY_NAME"
   ]
  },
  {
   "cell_type": "markdown",
   "metadata": {},
   "source": [
    "Let us analyze the continuous features first. We shall measure the correlation of continuous features with the promotional offer feature (CROSS_SELL_SUCCESS) to identify important features.\n",
    "\n",
    "The top continuous correlated features are:\n",
    "\n",
    "    CANCELLATIONS_BEFORE_NOON         0.16\n",
    "    MOBILE_NUMBER                     0.10\n",
    "    TASTES_AND_PREFERENCES            0.08\n",
    "    REFRIGERATED_LOCKER               0.07"
   ]
  },
  {
   "cell_type": "code",
   "execution_count": 6,
   "metadata": {},
   "outputs": [
    {
     "data": {
      "text/plain": [
       "' CANCELLATIONS_BEFORE_NOON         0.16\\n    MOBILE_NUMBER                     0.10\\n    TASTES_AND_PREFERENCES            0.08\\n    REFRIGERATED_LOCKER               0.07'"
      ]
     },
     "execution_count": 6,
     "metadata": {},
     "output_type": "execute_result"
    }
   ],
   "source": [
    "# Feature Engineering 1.4\n",
    "# Feature engineering for Continuos variables\n",
    "#-----------------------------------------------------------------------------\n",
    "\n",
    "# creating a list of continuous features (including CROSS_SELL_SUCCESS)\n",
    "continuous_data = ['REVENUE','CROSS_SELL_SUCCESS','TOTAL_MEALS_ORDERED',\n",
    "                   'UNIQUE_MEALS_PURCH','CONTACTS_W_CUSTOMER_SERVICE',\n",
    "                   'AVG_TIME_PER_SITE_VISIT','MOBILE_NUMBER','CANCELLATIONS_BEFORE_NOON',\n",
    "                   'CANCELLATIONS_AFTER_NOON','TASTES_AND_PREFERENCES','PC_LOGINS',\n",
    "                   'MOBILE_LOGINS','EARLY_DELIVERIES','LATE_DELIVERIES','PACKAGE_LOCKER',\n",
    "                   'REFRIGERATED_LOCKER','AVG_PREP_VID_TIME','AVERAGE_ORDER_SIZE',\n",
    "                   'AVG_CLICKS_PER_VISIT','TOTAL_PHOTOS_VIEWED']\n",
    "\n",
    "\n",
    "# developing a correlation matrix based on continuous features\n",
    "apprentice_corr = apprentice[continuous_data].corr(method = 'pearson')\n",
    "\n",
    "\n",
    "# filtering the results to only show correlations with CROSS_SELL_SUCCESS\n",
    "apprentice_corr.loc[ : , 'CROSS_SELL_SUCCESS'].round(decimals = 2).sort_values(ascending = False)\n",
    "\n",
    "# The top continuous correlated features are: \n",
    "\"\"\" CANCELLATIONS_BEFORE_NOON         0.16\n",
    "    MOBILE_NUMBER                     0.10\n",
    "    TASTES_AND_PREFERENCES            0.08\n",
    "    REFRIGERATED_LOCKER               0.07\"\"\"\n"
   ]
  },
  {
   "cell_type": "markdown",
   "metadata": {},
   "source": [
    "Let us flag all the missing values by creating new columns. The columns will be binary where the observation which has a missing value will be assigned the value of 1."
   ]
  },
  {
   "cell_type": "code",
   "execution_count": 8,
   "metadata": {},
   "outputs": [
    {
     "data": {
      "text/plain": [
       "m_FAMILY_NAME    47\n",
       "dtype: int64"
      ]
     },
     "execution_count": 8,
     "metadata": {},
     "output_type": "execute_result"
    }
   ],
   "source": [
    "# Feature Engineering 1.5\n",
    "# Family name has 47 null values\n",
    "# looping to detect features with missing values\n",
    "for col in apprentice:\n",
    "\n",
    "    # creating columns with 1s if missing and 0 if not\n",
    "    if apprentice[col].isnull().astype(int).sum() > 0:\n",
    "        apprentice['m_'+col] = apprentice[col].isnull().astype(int)\n",
    "\n",
    "#summing the missing value flags to check the results of the loop above\n",
    "apprentice[    ['m_FAMILY_NAME']    ].sum(axis = 0)"
   ]
  },
  {
   "cell_type": "markdown",
   "metadata": {},
   "source": [
    "FAMILY_NAME is the only column with missing values. It seems that the family name is fetched from the email. We shall rename these observations as 'Not in Email'."
   ]
  },
  {
   "cell_type": "code",
   "execution_count": 8,
   "metadata": {},
   "outputs": [],
   "source": [
    "# Feature Engineering 1.6\n",
    "# It seems that the last name is fetched from the email.\n",
    "# Since for the above observations the email does not reflect the last name, we shall\n",
    "# rename these observations as Not in Email\n",
    "fill = 'Not in email'\n",
    "apprentice['FAMILY_NAME'] = apprentice['FAMILY_NAME'].fillna(fill)"
   ]
  },
  {
   "cell_type": "code",
   "execution_count": 9,
   "metadata": {},
   "outputs": [
    {
     "data": {
      "text/plain": [
       "False"
      ]
     },
     "execution_count": 9,
     "metadata": {},
     "output_type": "execute_result"
    }
   ],
   "source": [
    "# Feature Engineering 1.7 \n",
    "# Confirming if there are no null values\n",
    "apprentice.isnull().any().any()"
   ]
  },
  {
   "cell_type": "markdown",
   "metadata": {},
   "source": [
    "We will try to derive more meaning from the FIRST_NAME feature by guessing their gender. We will create a new binary feature for knowing the gender of a customer."
   ]
  },
  {
   "cell_type": "code",
   "execution_count": 10,
   "metadata": {},
   "outputs": [],
   "source": [
    "# Feature Engineering 1.8\n",
    "# Gender Guessing\n",
    "# guessing gender based on (given) name\n",
    "\n",
    "# placeholder list\n",
    "#placeholder_lst = []\n",
    "\n",
    "# looping to guess gender\n",
    "#for name in apprentice.loc[:,'FIRST_NAME']:\n",
    "  #  guess = gender.Detector().get_gender(name)\n",
    "   # placeholder_lst.append(guess)\n",
    "\n",
    "\n",
    "# converting list into a series\n",
    "#apprentice['gender_guess'] = pd.Series(placeholder_lst)\n",
    "\n",
    "\n",
    "# checking results\n",
    "#apprentice['gender_guess'].value_counts()\n",
    "\n",
    "#Creating a list with known male as 1, female as 2 and unknown gender as 0\n",
    "#placeholder_lst = []\n",
    "\n",
    "#for val in apprentice['gender_guess']:\n",
    "  #  if val == 'unknown' or val == 'andy':\n",
    "   #     placeholder_lst.append(0)\n",
    "  #  elif val == 'male' or val == 'mostly_male':\n",
    "  #      placeholder_lst.append(1)\n",
    "  #  elif val == 'female' or val == 'mostly_female':\n",
    "  #      placeholder_lst.append(2)\n",
    "  #  else:\n",
    "  #      print('Unknown')\n",
    "   \n",
    "\n",
    "#print(placeholder_lst)"
   ]
  },
  {
   "cell_type": "code",
   "execution_count": 7,
   "metadata": {},
   "outputs": [
    {
     "data": {
      "text/plain": [
       "0    1395\n",
       "1     551\n",
       "Name: GENDER_KNOWN, dtype: int64"
      ]
     },
     "execution_count": 7,
     "metadata": {},
     "output_type": "execute_result"
    }
   ],
   "source": [
    "# Feature Engineering 1.9\n",
    "# Gender Guessing Part 2\n",
    "# Known and unknown gender list from gender guesser \n",
    "placeholder_lst = [0, 0, 0, 0, 0, 1, 0, 0, 0, 0, 0, 0, 0, 0, 0, 0, 0, 0, 1, 0, \n",
    "                   1, 1, 0, 1, 0, 0, 0, 0, 0, 1, 0, 1, 0, 0, 0, 0, 1, 0, 0, 0, \n",
    "                   0, 1, 1, 0, 1, 0, 1, 0, 0, 0, 1, 1, 0, 0, 1, 1, 0, 0, 0, 0, \n",
    "                   0, 0, 0, 1, 1, 0, 0, 1, 1, 0, 1, 1, 0, 1, 0, 0, 0, 1, 0, 0, \n",
    "                   1, 0, 0, 0, 0, 1, 0, 0, 0, 0, 0, 0, 1, 1, 1, 0, 1, 0, 0, 1, \n",
    "                   1, 1, 1, 0, 0, 1, 0, 0, 0, 1, 0, 1, 0, 1, 0, 1, 1, 0, 0, 1, \n",
    "                   0, 0, 0, 0, 0, 1, 1, 1, 1, 0, 1, 0, 1, 0, 1, 0, 0, 0, 0, 0, \n",
    "                   0, 0, 0, 0, 0, 0, 0, 1, 0, 0, 0, 1, 0, 0, 0, 0, 0, 1, 1, 0, \n",
    "                   0, 0, 0, 0, 0, 1, 1, 0, 0, 1, 0, 1, 0, 0, 0, 0, 0, 1, 0, 1, \n",
    "                   1, 0, 0, 0, 0, 0, 0, 1, 1, 0, 0, 1, 0, 1, 0, 0, 1, 0, 1, 0, \n",
    "                   0, 0, 1, 0, 0, 0, 0, 1, 1, 0, 0, 0, 0, 1, 0, 1, 0, 1, 0, 0,\n",
    "                   0, 1, 0, 1, 0, 0, 1, 0, 0, 0, 0, 1, 0, 0, 0, 1, 0, 0, 1, 0, \n",
    "                   0, 0, 0, 0, 1, 0, 1, 0, 0, 1, 0, 0, 0, 1, 0, 0, 0, 0, 0, 0, \n",
    "                   0, 0, 0, 0, 0, 0, 0, 1, 0, 0, 0, 0, 1, 0, 0, 0, 0, 0, 1, 0,                    \n",
    "                   1, 0, 1, 0, 1, 1, 0, 0, 0, 0, 0, 0, 0, 1, 0, 0, 0, 0, 0, 1, \n",
    "                   1, 0, 1, 0, 0, 0, 0, 1, 1, 0, 0, 0, 0, 0, 1, 0, 0, 0, 0, 0, \n",
    "                   0, 1, 0, 0, 0, 0, 0, 1, 1, 0, 0, 1, 1, 0, 0, 0, 0, 0, 0, 0, \n",
    "                   0, 0, 0, 1, 0, 0, 0, 0, 0, 0, 0, 1, 0, 0, 0, 0, 1, 0, 0, 0,\n",
    "                   0, 0, 0, 1, 0, 0, 0, 0, 0, 1, 1, 0, 0, 0, 0, 0, 0, 0, 0, 0,\n",
    "                   0, 0, 0, 1, 0, 0, 1, 0, 0, 0, 1, 0, 0, 0, 1, 0, 0, 0, 0, 0, \n",
    "                   0, 0, 0, 0, 1, 0, 0, 0, 0, 0, 0, 0, 0, 1, 0, 1, 1, 0, 0, 1,\n",
    "                   0, 0, 0, 0, 1, 0, 0, 1, 1, 1, 1, 0, 0, 1, 0, 1, 0, 0, 1, 1, \n",
    "                   0, 0, 0, 0, 1, 0, 0, 0, 1, 0, 0, 0, 0, 0, 1, 1, 0, 1, 1, 0, \n",
    "                   0, 0, 1, 1, 0, 1, 0, 0, 0, 0, 0, 1, 0, 0, 0, 0, 0, 0, 0, 1, \n",
    "                   1, 0, 0, 0, 0, 0, 0, 1, 1, 0, 1, 0, 0, 0, 0, 0, 0, 0, 0, 1,                   \n",
    "                   1, 0, 0, 1, 1, 0, 0, 0, 0, 0, 0, 0, 0, 0, 0, 0, 0, 0, 0, 0, \n",
    "                   0, 0, 0, 0, 0, 0, 1, 0, 0, 0, 0, 0, 1, 0, 0, 0, 0, 1, 0, 0, \n",
    "                   0, 0, 1, 0, 0, 0, 0, 1, 1, 1, 0, 0, 0, 1, 0, 0, 0, 0, 0, 0, \n",
    "                   0, 0, 0, 0, 0, 0, 0, 1, 1, 1, 1, 0, 0, 0, 0, 0, 1, 0, 1, 1,\n",
    "                   0, 0, 0, 1, 0, 0, 0, 0, 1, 0, 0, 0, 1, 0, 0, 0, 1, 1, 1, 0,\n",
    "                   0, 0, 0, 0, 0, 0, 1, 0, 0, 1, 0, 1, 1, 0, 0, 0, 0, 0, 0, 0, \n",
    "                   0, 0, 1, 0, 0, 1, 1, 1, 1, 1, 1, 1, 0, 0, 0, 0, 0, 0, 0, 0, \n",
    "                   0, 0, 1, 1, 0, 0, 1, 0, 0, 0, 0, 0, 0, 1, 1, 0, 1, 0, 1, 0, \n",
    "                   1, 0, 0, 0, 0, 0, 0, 0, 0, 1, 0, 1, 1, 0, 0, 0, 1, 0, 0, 0, \n",
    "                   1, 1, 0, 0, 0, 0, 0, 0, 0, 0, 0, 0, 0, 0, 1, 0, 0, 1, 1, 0, \n",
    "                   1, 1, 0, 0, 0, 0, 0, 0, 1, 0, 0, 1, 1, 1, 1, 0, 0, 1, 0, 0, \n",
    "                   0, 0, 0, 0, 0, 1, 0, 1, 0, 0, 0, 0, 0, 1, 1, 1, 1, 1, 1, 0, \n",
    "                   0, 0, 0, 0, 0, 0, 0, 1, 0, 0, 0, 0, 0, 0, 1, 1, 0, 0, 0, 0, \n",
    "                   0, 0, 0, 0, 0, 0, 1, 0, 1, 0, 0, 1, 0, 1, 0, 0, 0, 0, 0, 1, \n",
    "                   0, 0, 0, 0, 0, 1, 0, 1, 0, 0, 0, 0, 0, 0, 1, 0, 0, 0, 1, 0, \n",
    "                   1, 1, 1, 1, 1, 1, 1, 1, 1, 0, 0, 0, 0, 0, 1, 1, 0, 0, 0, 1, \n",
    "                   0, 0, 0, 1, 1, 0, 0, 0, 1, 0, 0, 0, 0, 0, 0, 1, 0, 0, 0, 1, \n",
    "                   1, 0, 1, 0, 0, 0, 0, 1, 0, 0, 0, 1, 0, 1, 0, 0, 0, 1, 0, 0, \n",
    "                   0, 1, 0, 0, 0, 0, 0, 0, 0, 0, 1, 1, 0, 1, 0, 1, 0, 0, 0, 1, \n",
    "                   1, 1, 0, 0, 0, 0, 0, 0, 0, 0, 0, 0, 0, 0, 0, 1, 1, 0, 0, 0, \n",
    "                   0, 0, 0, 0, 1, 1, 0, 0, 0, 0, 0, 0, 0, 0, 0, 0, 0, 1, 0, 0, \n",
    "                   0, 0, 0, 1, 1, 0, 0, 0, 0, 1, 0, 1, 0, 0, 0, 0, 0, 1, 0, 0, \n",
    "                   0, 0, 0, 0, 0, 0, 1, 1, 0, 0, 0, 0, 0, 0, 1, 0, 1, 1, 1, 0, \n",
    "                   0, 0, 0, 0, 0, 0, 1, 0, 0, 0, 0, 1, 0, 1, 0, 1, 0, 1, 1, 0,\n",
    "                   0, 0, 0, 0, 1, 0, 1, 1, 1, 1, 1, 1, 0, 0, 0, 0, 0, 0, 0, 0, \n",
    "                   0, 0, 0, 0, 0, 0, 0, 0, 0, 1, 0, 0, 0, 0, 0, 1, 0, 0, 0, 0, \n",
    "                   0, 1, 0, 0, 0, 1, 0, 0, 0, 0, 1, 0, 0, 0, 0, 0, 1, 0, 1, 0, \n",
    "                   0, 0, 0, 0, 0, 0, 1, 0, 0, 0, 0, 0, 0, 0, 1, 0, 1, 0, 1, 0, \n",
    "                   0, 0, 0, 0, 0, 0, 0, 0, 0, 0, 0, 1, 0, 1, 0, 0, 0, 0, 0, 0, \n",
    "                   0, 0, 0, 1, 0, 0, 1, 0, 1, 0, 0, 0, 0, 0, 1, 1, 1, 1, 0, 1,\n",
    "                   0, 0, 1, 1, 0, 0, 0, 0, 0, 1, 1, 0, 0, 0, 1, 0, 0, 0, 1, 1, \n",
    "                   1, 0, 0, 0, 0, 1, 0, 0, 0, 1, 0, 0, 0, 0, 0, 0, 0, 0, 1, 1, \n",
    "                   0, 0, 1, 0, 1, 0, 0, 0, 1, 1, 1, 1, 0, 1, 0, 0, 0, 0, 0, 0, \n",
    "                   0, 0, 1, 0, 0, 0, 0, 0, 0, 0, 0, 0, 0, 0, 1, 0, 0, 0, 0, 0, \n",
    "                   1, 0, 0, 0, 1, 1, 1, 1, 0, 0, 0, 1, 0, 0, 1, 0, 1, 0, 0, 0, \n",
    "                   1, 1, 0, 1, 0, 0, 1, 0, 1, 0, 0, 0, 0, 0, 0, 0, 1, 1, 1, 0,\n",
    "                   1, 1, 1, 1, 0, 0, 0, 1, 1, 1, 0, 1, 0, 1, 1, 0, 0, 1, 1, 0, \n",
    "                   1, 0, 1, 0, 0, 0, 0, 0, 0, 1, 1, 0, 0, 0, 0, 1, 1, 0, 0, 0,\n",
    "                   1, 1, 1, 0, 0, 0, 0, 0, 0, 0, 0, 0, 1, 0, 0, 0, 0, 1, 1, 1,\n",
    "                   1, 1, 0, 0, 1, 1, 0, 0, 0, 0, 0, 0, 0, 0, 0, 0, 0, 0, 1, 0,\n",
    "                   1, 1, 0, 0, 0, 0, 1, 0, 0, 1, 0, 0, 1, 1, 0, 0, 0, 1, 0, 1, \n",
    "                   0, 0, 0, 1, 0, 1, 1, 1, 0, 0, 0, 0, 1, 0, 1, 0, 1, 1, 1, 0, \n",
    "                   0, 0, 0, 0, 1, 0, 0, 0, 0, 0, 1, 0, 0, 0, 0, 0, 1, 1, 0, 0,\n",
    "                   0, 0, 0, 0, 1, 1, 0, 0, 1, 1, 1, 1, 0, 0, 1, 0, 0, 0, 0, 1,\n",
    "                   0, 0, 0, 1, 0, 0, 0, 0, 0, 1, 0, 0, 1, 0, 0, 0, 1, 0, 0, 0,\n",
    "                   1, 0, 0, 0, 1, 0, 1, 0, 0, 0, 0, 0, 1, 0, 0, 0, 1, 1, 0, 0,\n",
    "                   1, 1, 0, 0, 1, 0, 0, 0, 1, 0, 0, 1, 0, 0, 0, 0, 0, 0, 1, 0,\n",
    "                   1, 1, 1, 1, 0, 0, 1, 0, 0, 1, 0, 1, 1, 0, 0, 1, 1, 0, 0, 0,\n",
    "                   0, 1, 1, 0, 0, 0, 1, 0, 0, 0, 0, 0, 1, 0, 0, 0, 0, 0, 1, 0,\n",
    "                   0, 0, 0, 0, 0, 0, 0, 0, 1, 0, 0, 1, 0, 0, 0, 1, 1, 0, 0, 0,\n",
    "                   0, 0, 1, 0, 0, 0, 1, 0, 0, 0, 0, 1, 0, 0, 0, 0, 0, 0, 0, 1,\n",
    "                   0, 1, 1, 1, 0, 0, 0, 1, 0, 0, 0, 0, 1, 1, 0, 0, 1, 0, 0, 0,\n",
    "                   0, 1, 1, 0, 0, 1, 0, 0, 0, 0, 0, 0, 0, 0, 0, 0, 0, 0, 0, 1,\n",
    "                   0, 0, 0, 0, 0, 0, 0, 0, 0, 1, 1, 1, 1, 1, 1, 1, 0, 0, 1, 0,\n",
    "                   0, 1, 1, 0, 1, 0, 0, 0, 0, 0, 0, 0, 0, 0, 0, 0, 0, 1, 1, 0,\n",
    "                   1, 0, 1, 0, 0, 1, 0, 1, 0, 0, 0, 0, 0, 0, 0, 0, 0, 1, 1, 0,\n",
    "                   0, 0, 0, 0, 1, 1, 0, 0, 0, 0, 1, 1, 1, 0, 1, 0, 0, 1, 1, 0,\n",
    "                   0, 1, 0, 0, 0, 0, 1, 1, 1, 0, 1, 0, 0, 0, 1, 0, 0, 0, 0, 0,\n",
    "                   0, 0, 1, 0, 1, 0, 0, 0, 1, 1, 1, 0, 1, 0, 1, 1, 0, 1, 0, 0,\n",
    "                   0, 0, 1, 0, 0, 0, 0, 0, 0, 1, 1, 0, 0, 0, 0, 0, 0, 0, 0, 1,\n",
    "                   0, 0, 0, 1, 0, 0, 0, 0, 0, 1, 0, 0, 0, 1, 1, 0, 0, 0, 1, 0,\n",
    "                   0, 1, 0, 0, 0, 0, 1, 0, 0, 0, 0, 0, 0, 0, 1, 0, 0, 0, 0, 0, \n",
    "                   1, 0, 0, 0, 0, 0, 1, 0, 0, 0, 0, 0, 0, 0, 0, 1, 0, 0, 0, 0, \n",
    "                   0, 1, 0, 0, 0, 1, 1, 0, 0, 0, 1, 0, 0, 0, 0, 0, 0, 0, 1, 1,\n",
    "                   0, 0, 0, 0, 0, 1, 0, 0, 1, 0, 0, 0, 0, 1, 0, 0, 1, 0, 0, 0,\n",
    "                   0, 1, 0, 0, 0, 1, 0, 0, 1, 1, 0, 1, 0, 0, 1, 1, 1, 1, 0, 0,\n",
    "                   0, 0, 0, 0, 0, 0, 0, 0, 0, 0, 0, 1, 1, 0, 0, 0, 0, 0, 0, 0, \n",
    "                   0, 0, 0, 0, 1, 0, 0, 0, 0, 0, 0, 0, 1, 0, 0, 0, 0, 0, 0, 1,\n",
    "                   0, 0, 0, 1, 0, 0, 0, 0, 0, 0, 1, 0, 0, 0, 0, 0, 0, 0, 0, 0,\n",
    "                   0, 1, 0, 0, 0, 1, 1, 0, 1, 1, 0, 0, 1, 1, 1, 1, 0, 0, 0, 1,\n",
    "                   0, 0, 1, 0, 0, 0, 0, 0, 1, 1, 1, 0, 0, 1, 0, 0, 0, 0, 1, 1,\n",
    "                   0, 0, 0, 0, 0, 0, 0, 0, 0, 0, 0, 0, 0, 1, 0, 0, 0, 0, 0, 0,\n",
    "                   1, 0, 0, 1, 0, 0]\n",
    "# Creating a new feature for Known and Unknown genders\n",
    "apprentice['GENDER_KNOWN'] = pd.Series(placeholder_lst)\n",
    "apprentice['GENDER_KNOWN'].value_counts()"
   ]
  },
  {
   "cell_type": "markdown",
   "metadata": {},
   "source": [
    "Though there are no more missing values, there might be features having several observations with zero value. They can misrepresent the data. Let us count the number of zeros in these features."
   ]
  },
  {
   "cell_type": "code",
   "execution_count": 9,
   "metadata": {},
   "outputs": [
    {
     "name": "stdout",
     "output_type": "stream",
     "text": [
      "\n",
      "                                     No\t\tYes\n",
      "                                   ---------------------\n",
      "Revenue                            | 0\t\t1946       \n",
      "Total Meals Ordered                | 0\t\t1946\n",
      "Unique Meals Purchased             | 0\t\t1946\n",
      "Contacts with Customer Service     | 0\t\t1946\n",
      "Avg Time per Site Visit            | 0\t\t1946\n",
      "Mobile No.(binary)                 | 238\t1708\n",
      "Cancellations Before Noon          | 667\t1279\n",
      "Cancellations After Noon           | 1667\t279\n",
      "Tastes and Preferences(binary)     | 556\t1390\n",
      "PC Logins                          | 0\t\t1946\n",
      "Mobile Logins                      | 16\t\t1930\n",
      "Early Deliveries                   | 1167\t779\n",
      "Late Deliveries                    | 319\t1627\n",
      "Package Locker(binary)             | 1255\t691\n",
      "Refrigerated Locker(binary)        | 1726\t220\n",
      "Avg Prep Vid Time                  | 0\t\t1946\n",
      "Avg Order Size                     | 0\t\t1946\n",
      "Avg Clicks per Visit               | 0\t\t1946\n",
      "Total Photos Viewed                | 1140\t806\n",
      "  \n",
      "\n"
     ]
    }
   ],
   "source": [
    "# Feature Engineering 1.10\n",
    "# counting the number of zeroes for continuous data variables\n",
    "REVENUE_zeroes   = len(apprentice['REVENUE'][apprentice['REVENUE']== 0]) # REVENUE\n",
    "TOTAL_MEALS_ORDERED_zeroes   = len(apprentice['TOTAL_MEALS_ORDERED'][apprentice['TOTAL_MEALS_ORDERED']== 0]) # TOTAL_MEALS_ORDERED\n",
    "UNIQUE_MEALS_PURCH_zeroes   = len(apprentice['UNIQUE_MEALS_PURCH'][apprentice['UNIQUE_MEALS_PURCH']== 0]) # UNIQUE_MEALS_PURCH\n",
    "CONTACTS_W_CUSTOMER_SERVICE_zeroes   = len(apprentice['CONTACTS_W_CUSTOMER_SERVICE'][apprentice['CONTACTS_W_CUSTOMER_SERVICE']== 0]) # CONTACTS_W_CUSTOMER_SERVICE\n",
    "AVG_TIME_PER_SITE_VISIT_zeroes   = len(apprentice['AVG_TIME_PER_SITE_VISIT'][apprentice['AVG_TIME_PER_SITE_VISIT']== 0]) # AVG_TIME_PER_SITE_VISIT\n",
    "MOBILE_NUMBER_zeroes   = len(apprentice['MOBILE_NUMBER'][apprentice['MOBILE_NUMBER']== 0]) # MOBILE_NUMBER\n",
    "CANCELLATIONS_BEFORE_NOON_zeroes   = len(apprentice['CANCELLATIONS_BEFORE_NOON'][apprentice['CANCELLATIONS_BEFORE_NOON']== 0]) # CANCELLATIONS_BEFORE_NOON\n",
    "CANCELLATIONS_AFTER_NOON_zeroes   = len(apprentice['CANCELLATIONS_AFTER_NOON'][apprentice['CANCELLATIONS_AFTER_NOON']== 0]) # CANCELLATIONS_AFTER_NOON\n",
    "TASTES_AND_PREFERENCES_zeroes   = len(apprentice['TASTES_AND_PREFERENCES'][apprentice['TASTES_AND_PREFERENCES']== 0]) # TASTES_AND_PREFERENCES\n",
    "PC_LOGINS_zeroes   = len(apprentice['PC_LOGINS'][apprentice['PC_LOGINS']== 0]) # PC_LOGINS\n",
    "MOBILE_LOGINS_zeroes   = len(apprentice['MOBILE_LOGINS'][apprentice['MOBILE_LOGINS']== 0]) # MOBILE_LOGINS\n",
    "EARLY_DELIVERIES_zeroes   = len(apprentice['EARLY_DELIVERIES'][apprentice['EARLY_DELIVERIES']== 0]) # EARLY_DELIVERIES\n",
    "LATE_DELIVERIES_zeroes   = len(apprentice['LATE_DELIVERIES'][apprentice['LATE_DELIVERIES']== 0]) # LATE_DELIVERIES\n",
    "PACKAGE_LOCKER_zeroes   = len(apprentice['PACKAGE_LOCKER'][apprentice['PACKAGE_LOCKER']== 0]) # PACKAGE_LOCKER\n",
    "REFRIGERATED_LOCKER_zeroes   = len(apprentice['REFRIGERATED_LOCKER'][apprentice['REFRIGERATED_LOCKER']== 0]) # REFRIGERATED_LOCKER\n",
    "AVG_PREP_VID_TIME_zeroes   = len(apprentice['AVG_PREP_VID_TIME'][apprentice['AVG_PREP_VID_TIME']== 0]) # AVG_PREP_VID_TIME\n",
    "AVERAGE_ORDER_SIZE_zeroes   = len(apprentice['AVERAGE_ORDER_SIZE'][apprentice['AVERAGE_ORDER_SIZE']== 0]) # AVERAGE_ORDER_SIZE\n",
    "#MASTER_CLASSES_ATTENDED_zeroes   = len(apprentice['MASTER_CLASSES_ATTENDED'][apprentice['MASTER_CLASSES_ATTENDED']== 0]) #MASTER_CLASSES_ATTENDED\n",
    "AVG_CLICKS_PER_VISIT_zeroes   = len(apprentice['AVG_CLICKS_PER_VISIT'][apprentice['AVG_CLICKS_PER_VISIT']== 0]) # AVG_CLICKS_PER_VISIT\n",
    "TOTAL_PHOTOS_VIEWED_zeroes   = len(apprentice['TOTAL_PHOTOS_VIEWED'][apprentice['TOTAL_PHOTOS_VIEWED']== 0]) # TOTAL_PHOTOS_VIEWED\n",
    "\n",
    "# printing a table of the results\n",
    "print(f\"\"\"\n",
    "                                     No\\t\\tYes\n",
    "                                   ---------------------\n",
    "Revenue                            | {REVENUE_zeroes}\\t\\t{len(apprentice) - REVENUE_zeroes}       \n",
    "Total Meals Ordered                | {TOTAL_MEALS_ORDERED_zeroes}\\t\\t{len(apprentice) - TOTAL_MEALS_ORDERED_zeroes}\n",
    "Unique Meals Purchased             | {UNIQUE_MEALS_PURCH_zeroes}\\t\\t{len(apprentice) - UNIQUE_MEALS_PURCH_zeroes}\n",
    "Contacts with Customer Service     | {CONTACTS_W_CUSTOMER_SERVICE_zeroes }\\t\\t{len(apprentice) - CONTACTS_W_CUSTOMER_SERVICE_zeroes }\n",
    "Avg Time per Site Visit            | {AVG_TIME_PER_SITE_VISIT_zeroes}\\t\\t{len(apprentice) - AVG_TIME_PER_SITE_VISIT_zeroes}\n",
    "Mobile No.(binary)                 | {MOBILE_NUMBER_zeroes}\\t{len(apprentice) - MOBILE_NUMBER_zeroes}\n",
    "Cancellations Before Noon          | {CANCELLATIONS_BEFORE_NOON_zeroes}\\t{len(apprentice) - CANCELLATIONS_BEFORE_NOON_zeroes}\n",
    "Cancellations After Noon           | {CANCELLATIONS_AFTER_NOON_zeroes}\\t{len(apprentice) - CANCELLATIONS_AFTER_NOON_zeroes}\n",
    "Tastes and Preferences(binary)     | {TASTES_AND_PREFERENCES_zeroes}\\t{len(apprentice) - TASTES_AND_PREFERENCES_zeroes}\n",
    "PC Logins                          | {PC_LOGINS_zeroes}\\t\\t{len(apprentice) - PC_LOGINS_zeroes}\n",
    "Mobile Logins                      | {MOBILE_LOGINS_zeroes}\\t\\t{len(apprentice) - MOBILE_LOGINS_zeroes}\n",
    "Early Deliveries                   | {EARLY_DELIVERIES_zeroes}\\t{len(apprentice) - EARLY_DELIVERIES_zeroes}\n",
    "Late Deliveries                    | {LATE_DELIVERIES_zeroes}\\t{len(apprentice) - LATE_DELIVERIES_zeroes}\n",
    "Package Locker(binary)             | {PACKAGE_LOCKER_zeroes}\\t{len(apprentice) - PACKAGE_LOCKER_zeroes}\n",
    "Refrigerated Locker(binary)        | {REFRIGERATED_LOCKER_zeroes}\\t{len(apprentice) - REFRIGERATED_LOCKER_zeroes}\n",
    "Avg Prep Vid Time                  | {AVG_PREP_VID_TIME_zeroes}\\t\\t{len(apprentice) - AVG_PREP_VID_TIME_zeroes}\n",
    "Avg Order Size                     | {AVERAGE_ORDER_SIZE_zeroes}\\t\\t{len(apprentice) - AVERAGE_ORDER_SIZE_zeroes}\n",
    "Avg Clicks per Visit               | {AVG_CLICKS_PER_VISIT_zeroes}\\t\\t{len(apprentice) - AVG_CLICKS_PER_VISIT_zeroes}\n",
    "Total Photos Viewed                | {TOTAL_PHOTOS_VIEWED_zeroes}\\t{len(apprentice) - TOTAL_PHOTOS_VIEWED_zeroes}\n",
    "  \n",
    "\"\"\")\n",
    "\n"
   ]
  },
  {
   "cell_type": "code",
   "execution_count": 10,
   "metadata": {},
   "outputs": [],
   "source": [
    "# Feature Engineering 1.11\n",
    "# Creating dummy variables for non-binary continuous data. \n",
    "apprentice['has_CANCELLATIONS_BEFORE_NOON']   = 0\n",
    "apprentice['has_CANCELLATIONS_AFTER_NOON']   = 0\n",
    "apprentice['has_MOBILE_LOGINS']   = 0\n",
    "apprentice['has_EARLY_DELIVERIES']   = 0\n",
    "apprentice['has_LATE_DELIVERIES']   = 0\n",
    "apprentice['has_TOTAL_PHOTOS_VIEWED']   = 0\n",
    "\n",
    "# iterating over each original column to\n",
    "# change values in the new feature columns\n",
    "for index, value in apprentice.iterrows():    \n",
    "         \n",
    "    # CANCELLATIONS_BEFORE_NOON\n",
    "    if apprentice.loc[index, 'CANCELLATIONS_BEFORE_NOON'] > 0:\n",
    "        apprentice.loc[index, 'has_CANCELLATIONS_BEFORE_NOON'] = 1\n",
    "        \n",
    "    # CANCELLATIONS_AFTER_NOON\n",
    "    if apprentice.loc[index, 'CANCELLATIONS_AFTER_NOON'] > 0:\n",
    "        apprentice.loc[index, 'has_CANCELLATIONS_AFTER_NOON'] = 1        \n",
    "      \n",
    "    # MOBILE_LOGINS\n",
    "    if apprentice.loc[index, 'MOBILE_LOGINS'] > 0:\n",
    "        apprentice.loc[index, 'has_MOBILE_LOGINS'] = 1\n",
    "        \n",
    "    # EARLY_DELIVERIES\n",
    "    if apprentice.loc[index, 'EARLY_DELIVERIES'] > 0:\n",
    "        apprentice.loc[index, 'has_EARLY_DELIVERIES'] = 1\n",
    "        \n",
    "    # LATE_DELIVERIES\n",
    "    if apprentice.loc[index, 'LATE_DELIVERIES'] > 0:\n",
    "        apprentice.loc[index, 'has_LATE_DELIVERIES'] = 1\n",
    "        \n",
    "         \n",
    "    # TOTAL_PHOTOS_VIEWED\n",
    "    if apprentice.loc[index, 'TOTAL_PHOTOS_VIEWED'] > 0:\n",
    "        apprentice.loc[index, 'has_TOTAL_PHOTOS_VIEWED'] = 1\n",
    "        \n",
    "   "
   ]
  },
  {
   "cell_type": "markdown",
   "metadata": {},
   "source": [
    "Out of the new columns created, has_CANCELLATIONS_BEFORE_NOON has top correlation of 0.138611."
   ]
  },
  {
   "cell_type": "code",
   "execution_count": 14,
   "metadata": {},
   "outputs": [
    {
     "data": {
      "text/plain": [
       "has_CANCELLATIONS_BEFORE_NOON    0.138611\n",
       "has_TOTAL_PHOTOS_VIEWED          0.010868\n",
       "has_MOBILE_LOGINS                0.010496\n",
       "has_LATE_DELIVERIES              0.001624\n",
       "has_EARLY_DELIVERIES            -0.006306\n",
       "has_CANCELLATIONS_AFTER_NOON    -0.045200\n",
       "Name: CROSS_SELL_SUCCESS, dtype: float64"
      ]
     },
     "execution_count": 14,
     "metadata": {},
     "output_type": "execute_result"
    }
   ],
   "source": [
    "# Feature Engineering 1.12\n",
    "# developing a small correlation matrix for apprentice dataset\n",
    "zeroes_corr = apprentice.corr()    # .round(decimals = 2)\n",
    "\n",
    "\n",
    "# checking the correlations of the newly-created variables with CROSS_SELL_SUCCESS\n",
    "zeroes_corr.loc['CROSS_SELL_SUCCESS',                                   # Y-variable\n",
    "               ['has_CANCELLATIONS_BEFORE_NOON', 'has_CANCELLATIONS_AFTER_NOON', \n",
    "                'has_MOBILE_LOGINS','has_EARLY_DELIVERIES',\n",
    "               'has_LATE_DELIVERIES','has_TOTAL_PHOTOS_VIEWED']].sort_values(ascending = False)\n",
    "\n",
    "# has_CANCELLATIONS_BEFORE_NOON has top correlation of 0.138611.\n",
    "\n"
   ]
  },
  {
   "cell_type": "markdown",
   "metadata": {},
   "source": [
    "Let us identify if there are any skewed features so that we can make them more uniform using log transformations."
   ]
  },
  {
   "cell_type": "code",
   "execution_count": 15,
   "metadata": {
    "code_folding": []
   },
   "outputs": [
    {
     "data": {
      "text/plain": [
       "Unnamed: 0                        0.000000\n",
       "REVENUE                           1.626573\n",
       "CROSS_SELL_SUCCESS               -0.766572\n",
       "TOTAL_MEALS_ORDERED               2.006653\n",
       "UNIQUE_MEALS_PURCH                0.370833\n",
       "CONTACTS_W_CUSTOMER_SERVICE       0.566015\n",
       "PRODUCT_CATEGORIES_VIEWED         0.163797\n",
       "AVG_TIME_PER_SITE_VISIT           9.639388\n",
       "MOBILE_NUMBER                    -2.307384\n",
       "CANCELLATIONS_BEFORE_NOON         1.601525\n",
       "CANCELLATIONS_AFTER_NOON          2.760535\n",
       "TASTES_AND_PREFERENCES           -0.949415\n",
       "PC_LOGINS                        -0.038384\n",
       "MOBILE_LOGINS                     0.052285\n",
       "WEEKLY_PLAN                       1.538602\n",
       "EARLY_DELIVERIES                  1.603124\n",
       "LATE_DELIVERIES                   1.513355\n",
       "PACKAGE_LOCKER                    0.606112\n",
       "REFRIGERATED_LOCKER               2.445841\n",
       "AVG_PREP_VID_TIME                 1.200283\n",
       "AVERAGE_ORDER_SIZE                0.703995\n",
       "MASTER_CLASSES_ATTENDED           0.657373\n",
       "MEDIAN_MEAL_RATING               -0.253768\n",
       "AVG_CLICKS_PER_VISIT             -0.113411\n",
       "TOTAL_PHOTOS_VIEWED               2.514511\n",
       "m_FAMILY_NAME                     6.203896\n",
       "GENDER_KNOWN                      0.963417\n",
       "has_CANCELLATIONS_BEFORE_NOON    -0.663114\n",
       "has_CANCELLATIONS_AFTER_NOON      2.036829\n",
       "has_MOBILE_LOGINS               -10.900295\n",
       "has_EARLY_DELIVERIES              0.407251\n",
       "has_LATE_DELIVERIES              -1.816994\n",
       "has_TOTAL_PHOTOS_VIEWED           0.348708\n",
       "dtype: float64"
      ]
     },
     "execution_count": 15,
     "metadata": {},
     "output_type": "execute_result"
    }
   ],
   "source": [
    "# Feature Engineering 1.13\n",
    "# checking for skewness so that we know whether to log tranform variables or not\n",
    "apprentice.skew(axis=0)\n"
   ]
  },
  {
   "cell_type": "markdown",
   "metadata": {},
   "source": [
    "There are many skewed features. AVG_TIME_PER_SITE_VISIT is skewed at 9.639388. We will log transform all the variables which have a skewness of 2.0 or above"
   ]
  },
  {
   "cell_type": "code",
   "execution_count": 16,
   "metadata": {},
   "outputs": [],
   "source": [
    "# Feature Engineering 1.14\n",
    "# AVG_TIME_PER_SITE_VISIT is skewed at 9.639388 \n",
    "# Hence we shall log transform any variable(which allows us to do so) with skewness of 2 or above\n",
    "apprentice['log_AVG_TIME_PER_SITE_VISIT'] = np.log10(apprentice['AVG_TIME_PER_SITE_VISIT'])\n",
    "apprentice['log_TOTAL_MEALS_ORDERED'] = np.log10(apprentice['TOTAL_MEALS_ORDERED'])\n",
    "apprentice['log_REVENUE'] = np.log10(apprentice['REVENUE'])\n",
    "apprentice['log_AVG_CLICKS_PER_VISIT'] = np.log10(apprentice['AVG_CLICKS_PER_VISIT'])\n",
    "\n",
    "\n"
   ]
  },
  {
   "cell_type": "markdown",
   "metadata": {},
   "source": [
    "We have received information from our business case that email domains have the potential to influence revenue. Hence let us identify and categorize the various emails in the dataset and call the feature as 'domain_group'. It will be a discrete variable with values '0' for junk emails, '1' for personal emails and '2' for professional emails."
   ]
  },
  {
   "cell_type": "code",
   "execution_count": 17,
   "metadata": {},
   "outputs": [
    {
     "data": {
      "text/html": [
       "<div>\n",
       "<style scoped>\n",
       "    .dataframe tbody tr th:only-of-type {\n",
       "        vertical-align: middle;\n",
       "    }\n",
       "\n",
       "    .dataframe tbody tr th {\n",
       "        vertical-align: top;\n",
       "    }\n",
       "\n",
       "    .dataframe thead th {\n",
       "        text-align: right;\n",
       "    }\n",
       "</style>\n",
       "<table border=\"1\" class=\"dataframe\">\n",
       "  <thead>\n",
       "    <tr style=\"text-align: right;\">\n",
       "      <th></th>\n",
       "      <th>0</th>\n",
       "      <th>1</th>\n",
       "    </tr>\n",
       "  </thead>\n",
       "  <tbody>\n",
       "    <tr>\n",
       "      <th>0</th>\n",
       "      <td>saathos</td>\n",
       "      <td>unitedhealth.com</td>\n",
       "    </tr>\n",
       "    <tr>\n",
       "      <th>1</th>\n",
       "      <td>alysanne.osgrey</td>\n",
       "      <td>ge.org</td>\n",
       "    </tr>\n",
       "    <tr>\n",
       "      <th>2</th>\n",
       "      <td>edwyd.fossoway</td>\n",
       "      <td>jnj.com</td>\n",
       "    </tr>\n",
       "    <tr>\n",
       "      <th>3</th>\n",
       "      <td>eleyna.westerling</td>\n",
       "      <td>ge.org</td>\n",
       "    </tr>\n",
       "    <tr>\n",
       "      <th>4</th>\n",
       "      <td>elyn.norridge</td>\n",
       "      <td>jnj.com</td>\n",
       "    </tr>\n",
       "    <tr>\n",
       "      <th>...</th>\n",
       "      <td>...</td>\n",
       "      <td>...</td>\n",
       "    </tr>\n",
       "    <tr>\n",
       "      <th>1941</th>\n",
       "      <td>obara.sand</td>\n",
       "      <td>yahoo.com</td>\n",
       "    </tr>\n",
       "    <tr>\n",
       "      <th>1942</th>\n",
       "      <td>quentyn.blackwood</td>\n",
       "      <td>yahoo.com</td>\n",
       "    </tr>\n",
       "    <tr>\n",
       "      <th>1943</th>\n",
       "      <td>rhonda.rowan</td>\n",
       "      <td>gmail.com</td>\n",
       "    </tr>\n",
       "    <tr>\n",
       "      <th>1944</th>\n",
       "      <td>turnip</td>\n",
       "      <td>yahoo.com</td>\n",
       "    </tr>\n",
       "    <tr>\n",
       "      <th>1945</th>\n",
       "      <td>tommard.heddle</td>\n",
       "      <td>merck.com</td>\n",
       "    </tr>\n",
       "  </tbody>\n",
       "</table>\n",
       "<p>1946 rows × 2 columns</p>\n",
       "</div>"
      ],
      "text/plain": [
       "                      0                 1\n",
       "0               saathos  unitedhealth.com\n",
       "1       alysanne.osgrey            ge.org\n",
       "2        edwyd.fossoway           jnj.com\n",
       "3     eleyna.westerling            ge.org\n",
       "4         elyn.norridge           jnj.com\n",
       "...                 ...               ...\n",
       "1941         obara.sand         yahoo.com\n",
       "1942  quentyn.blackwood         yahoo.com\n",
       "1943       rhonda.rowan         gmail.com\n",
       "1944             turnip         yahoo.com\n",
       "1945     tommard.heddle         merck.com\n",
       "\n",
       "[1946 rows x 2 columns]"
      ]
     },
     "execution_count": 17,
     "metadata": {},
     "output_type": "execute_result"
    }
   ],
   "source": [
    "# Feature Engineering 1.15\n",
    "# Lets try to derive more meaning from the EMAIL variable\n",
    "\n",
    "# STEP 1: splitting personal emails\n",
    "\n",
    "# placeholder list\n",
    "placeholder_lst = []\n",
    "\n",
    "# looping over each email address\n",
    "for index, col in apprentice.iterrows():\n",
    "    \n",
    "    # splitting email domain at '@'\n",
    "    split_email = apprentice.loc[index, 'EMAIL'].split(sep = '@')\n",
    "    \n",
    "    # appending placeholder_lst with the results\n",
    "    placeholder_lst.append(split_email)\n",
    "    \n",
    "\n",
    "# converting placeholder_lst into a DataFrame \n",
    "email_df = pd.DataFrame(placeholder_lst)\n",
    "\n",
    "\n",
    "# displaying the results\n",
    "email_df"
   ]
  },
  {
   "cell_type": "code",
   "execution_count": 18,
   "metadata": {},
   "outputs": [
    {
     "data": {
      "text/plain": [
       "gmail.com           303\n",
       "protonmail.com      284\n",
       "yahoo.com           274\n",
       "msn.com              72\n",
       "aol.com              69\n",
       "passport.com         64\n",
       "hotmail.com          63\n",
       "live.com             62\n",
       "me.com               59\n",
       "amex.com             30\n",
       "jnj.com              28\n",
       "merck.com            28\n",
       "mcdonalds.com        28\n",
       "cocacola.com         28\n",
       "nike.com             27\n",
       "apple.com            27\n",
       "ibm.com              26\n",
       "ge.org               26\n",
       "dupont.com           26\n",
       "chevron.com          25\n",
       "microsoft.com        25\n",
       "travelers.com        24\n",
       "unitedhealth.com     24\n",
       "exxon.com            24\n",
       "boeing.com           23\n",
       "verizon.com          22\n",
       "pg.com               22\n",
       "caterpillar.com      22\n",
       "mmm.com              22\n",
       "walmart.com          21\n",
       "disney.com           21\n",
       "visa.com             20\n",
       "pfizer.com           20\n",
       "jpmorgan.com         19\n",
       "cisco.com            18\n",
       "unitedtech.com       18\n",
       "goldmansacs.com      18\n",
       "intel.com            17\n",
       "homedepot.com        17\n",
       "Name: personal_email_domain, dtype: int64"
      ]
     },
     "execution_count": 18,
     "metadata": {},
     "output_type": "execute_result"
    }
   ],
   "source": [
    "# Feature Engineering 1.16\n",
    "# renaming column to concatenate\n",
    "email_df.columns = ['0' , 'personal_email_domain']\n",
    "\n",
    "\n",
    "# concatenating personal_email_domain with apprentice DataFrame\n",
    "apprentice = pd.concat([apprentice, email_df],\n",
    "                   axis = 1)\n",
    "\n",
    "\n",
    "# printing value counts of personal_email_domain\n",
    "apprentice.loc[: ,'personal_email_domain'].value_counts()"
   ]
  },
  {
   "cell_type": "code",
   "execution_count": 19,
   "metadata": {},
   "outputs": [
    {
     "data": {
      "text/plain": [
       "1    861\n",
       "2    696\n",
       "0    389\n",
       "Name: domain_group, dtype: int64"
      ]
     },
     "execution_count": 19,
     "metadata": {},
     "output_type": "execute_result"
    }
   ],
   "source": [
    "#Feature Engineering 1.17\n",
    "# email domain types\n",
    "\n",
    "pers_email_domains = [ '@gmail.com','@protonmail.com','@yahoo.com']\n",
    "\n",
    "\n",
    "\n",
    "professional_email_domains  = [ '@merck.com','@mcdonalds.com','@cocacola.com',\n",
    "                       '@jnj.com',  '@apple.com','@amex.com','@visa.com',\n",
    "                       '@nike.com', '@dupont.com','@ge.org', '@ibm.com',\n",
    "                         '@microsoft.com','@chevron.com','@travelers.com',\n",
    "                            '@unitedhealth.com','@exxon.com', '@boeing.com','@mmm.com', '@pg.com',\n",
    "                       '@caterpillar.com', '@verizon.com','@disney.com', '@walmart.com',\n",
    "                         '@pfizer.com','@jpmorgan.com', '@cisco.com',\n",
    "                         '@unitedtech.com', '@goldmansacs.com','@intel.com', \n",
    "                          '@homedepot.com']\n",
    "\n",
    "\n",
    "junk_email_domains = ['@passport.com','@me.com','@msn.com',\n",
    "                       '@aol.com','@hotmail.com','@live.com']\n",
    "# placeholder list\n",
    "placeholder_lst = []\n",
    "\n",
    "# Lets create a dummy variable to differentiate between normal email domains\n",
    "# and different email domains\n",
    "# looping to group observations by domain type\n",
    "for domain in apprentice['personal_email_domain']:\n",
    "        if '@'+ domain in junk_email_domains:\n",
    "            placeholder_lst.append(0)\n",
    "            \n",
    "        elif '@'+ domain in pers_email_domains:\n",
    "            placeholder_lst.append(1)\n",
    "        elif '@'+ domain in professional_email_domains:\n",
    "            placeholder_lst.append(2)\n",
    "        elif '@'+ domain in gmail:\n",
    "            placeholder_lst.append(3)\n",
    "                  \n",
    "        else:\n",
    "            print('Unknown')\n",
    "\n",
    "\n",
    "# concatenating with original DataFrame\n",
    "apprentice['domain_group'] = pd.Series(placeholder_lst)\n",
    "\n",
    "\n",
    "# checking results\n",
    "apprentice['domain_group'].value_counts()"
   ]
  },
  {
   "cell_type": "markdown",
   "metadata": {},
   "source": [
    "Let us create another feature which measures the number of names in each customer's full name."
   ]
  },
  {
   "cell_type": "code",
   "execution_count": 20,
   "metadata": {},
   "outputs": [],
   "source": [
    "# Feature Engineering 1.171\n",
    "# Creating a variables with the length of each customer's name\n",
    "text_split_feature(col = 'NAME', df = apprentice, sep = ' ', new_col_name ='NUMBER_OF_NAMES')\n"
   ]
  },
  {
   "cell_type": "markdown",
   "metadata": {},
   "source": [
    "Finally, let us check the correlation with all the features that we have created."
   ]
  },
  {
   "cell_type": "code",
   "execution_count": 21,
   "metadata": {},
   "outputs": [
    {
     "name": "stdout",
     "output_type": "stream",
     "text": [
      "CROSS_SELL_SUCCESS               1.00\n",
      "domain_group                     0.28\n",
      "NUMBER_OF_NAMES                  0.16\n",
      "CANCELLATIONS_BEFORE_NOON        0.16\n",
      "has_CANCELLATIONS_BEFORE_NOON    0.14\n",
      "MOBILE_NUMBER                    0.10\n",
      "TASTES_AND_PREFERENCES           0.08\n",
      "REFRIGERATED_LOCKER              0.07\n",
      "GENDER_KNOWN                     0.05\n",
      "PACKAGE_LOCKER                   0.04\n",
      "CONTACTS_W_CUSTOMER_SERVICE      0.04\n",
      "MASTER_CLASSES_ATTENDED          0.04\n",
      "PC_LOGINS                        0.04\n",
      "MEDIAN_MEAL_RATING               0.03\n",
      "AVG_PREP_VID_TIME                0.03\n",
      "EARLY_DELIVERIES                 0.02\n",
      "log_TOTAL_MEALS_ORDERED          0.02\n",
      "AVERAGE_ORDER_SIZE               0.02\n",
      "log_AVG_TIME_PER_SITE_VISIT      0.02\n",
      "m_FAMILY_NAME                    0.02\n",
      "has_MOBILE_LOGINS                0.01\n",
      "TOTAL_MEALS_ORDERED              0.01\n",
      "log_REVENUE                      0.01\n",
      "AVG_TIME_PER_SITE_VISIT          0.01\n",
      "has_TOTAL_PHOTOS_VIEWED          0.01\n",
      "TOTAL_PHOTOS_VIEWED              0.01\n",
      "LATE_DELIVERIES                  0.01\n",
      "has_LATE_DELIVERIES              0.00\n",
      "UNIQUE_MEALS_PURCH               0.00\n",
      "PRODUCT_CATEGORIES_VIEWED        0.00\n",
      "REVENUE                          0.00\n",
      "has_EARLY_DELIVERIES            -0.01\n",
      "WEEKLY_PLAN                     -0.01\n",
      "log_AVG_CLICKS_PER_VISIT        -0.03\n",
      "AVG_CLICKS_PER_VISIT            -0.04\n",
      "has_CANCELLATIONS_AFTER_NOON    -0.05\n",
      "CANCELLATIONS_AFTER_NOON        -0.05\n",
      "MOBILE_LOGINS                   -0.05\n",
      "Unnamed: 0                      -0.13\n",
      "Name: CROSS_SELL_SUCCESS, dtype: float64\n"
     ]
    }
   ],
   "source": [
    "# Feature Engineering 1.18\n",
    "# creating a (Pearson) correlation matrix\n",
    "df_corr = apprentice.corr().round(2)\n",
    "\n",
    "\n",
    "# printing (Pearson) correlations with SalePrice\n",
    "print(df_corr.loc['CROSS_SELL_SUCCESS'].sort_values(ascending = False))"
   ]
  },
  {
   "cell_type": "markdown",
   "metadata": {},
   "source": [
    "## Building classification models"
   ]
  },
  {
   "cell_type": "markdown",
   "metadata": {},
   "source": [
    "We will use logit model to identify the statistically significant variables."
   ]
  },
  {
   "cell_type": "code",
   "execution_count": 22,
   "metadata": {},
   "outputs": [
    {
     "name": "stdout",
     "output_type": "stream",
     "text": [
      "Unnamed: 0 +\n",
      "REVENUE +\n",
      "CROSS_SELL_SUCCESS +\n",
      "NAME +\n",
      "EMAIL +\n",
      "FIRST_NAME +\n",
      "FAMILY_NAME +\n",
      "TOTAL_MEALS_ORDERED +\n",
      "UNIQUE_MEALS_PURCH +\n",
      "CONTACTS_W_CUSTOMER_SERVICE +\n",
      "PRODUCT_CATEGORIES_VIEWED +\n",
      "AVG_TIME_PER_SITE_VISIT +\n",
      "MOBILE_NUMBER +\n",
      "CANCELLATIONS_BEFORE_NOON +\n",
      "CANCELLATIONS_AFTER_NOON +\n",
      "TASTES_AND_PREFERENCES +\n",
      "PC_LOGINS +\n",
      "MOBILE_LOGINS +\n",
      "WEEKLY_PLAN +\n",
      "EARLY_DELIVERIES +\n",
      "LATE_DELIVERIES +\n",
      "PACKAGE_LOCKER +\n",
      "REFRIGERATED_LOCKER +\n",
      "AVG_PREP_VID_TIME +\n",
      "AVERAGE_ORDER_SIZE +\n",
      "MASTER_CLASSES_ATTENDED +\n",
      "MEDIAN_MEAL_RATING +\n",
      "AVG_CLICKS_PER_VISIT +\n",
      "TOTAL_PHOTOS_VIEWED +\n",
      "m_FAMILY_NAME +\n",
      "GENDER_KNOWN +\n",
      "has_CANCELLATIONS_BEFORE_NOON +\n",
      "has_CANCELLATIONS_AFTER_NOON +\n",
      "has_MOBILE_LOGINS +\n",
      "has_EARLY_DELIVERIES +\n",
      "has_LATE_DELIVERIES +\n",
      "has_TOTAL_PHOTOS_VIEWED +\n",
      "log_AVG_TIME_PER_SITE_VISIT +\n",
      "log_TOTAL_MEALS_ORDERED +\n",
      "log_REVENUE +\n",
      "log_AVG_CLICKS_PER_VISIT +\n",
      "0 +\n",
      "personal_email_domain +\n",
      "domain_group +\n",
      "NUMBER_OF_NAMES +\n"
     ]
    }
   ],
   "source": [
    "##############################################################################\n",
    "\"\"\"             Building a full model using statsmodels                    \"\"\"\n",
    "##############################################################################\n",
    "# looping to make x-variables suitable for statsmodels\n",
    "for val in apprentice:\n",
    "    print(f\"{val} +\")\n"
   ]
  },
  {
   "cell_type": "code",
   "execution_count": 23,
   "metadata": {},
   "outputs": [
    {
     "name": "stdout",
     "output_type": "stream",
     "text": [
      "Optimization terminated successfully.\n",
      "         Current function value: 0.536273\n",
      "         Iterations 6\n",
      "                           Logit Regression Results                           \n",
      "==============================================================================\n",
      "Dep. Variable:     CROSS_SELL_SUCCESS   No. Observations:                 1946\n",
      "Model:                          Logit   Df Residuals:                     1932\n",
      "Method:                           MLE   Df Model:                           13\n",
      "Date:                Wed, 27 Jan 2021   Pseudo R-squ.:                  0.1457\n",
      "Time:                        16:24:54   Log-Likelihood:                -1043.6\n",
      "converged:                       True   LL-Null:                       -1221.6\n",
      "Covariance Type:            nonrobust   LLR p-value:                 4.183e-68\n",
      "===============================================================================================\n",
      "                                  coef    std err          z      P>|z|      [0.025      0.975]\n",
      "-----------------------------------------------------------------------------------------------\n",
      "Intercept                      -4.6237      1.189     -3.889      0.000      -6.954      -2.293\n",
      "TOTAL_MEALS_ORDERED            -0.0079      0.002     -3.255      0.001      -0.013      -0.003\n",
      "CONTACTS_W_CUSTOMER_SERVICE     0.1017      0.030      3.400      0.001       0.043       0.160\n",
      "MOBILE_NUMBER                   0.8248      0.156      5.288      0.000       0.519       1.131\n",
      "CANCELLATIONS_BEFORE_NOON       0.3019      0.041      7.420      0.000       0.222       0.382\n",
      "CANCELLATIONS_AFTER_NOON       -0.3336      0.121     -2.754      0.006      -0.571      -0.096\n",
      "TASTES_AND_PREFERENCES          0.4309      0.117      3.685      0.000       0.202       0.660\n",
      "PC_LOGINS                       0.1915      0.093      2.060      0.039       0.009       0.374\n",
      "REFRIGERATED_LOCKER             0.5769      0.183      3.160      0.002       0.219       0.935\n",
      "GENDER_KNOWN                    0.1882      0.122      1.544      0.123      -0.051       0.427\n",
      "log_TOTAL_MEALS_ORDERED         2.0026      0.512      3.911      0.000       0.999       3.006\n",
      "log_REVENUE                    -0.8825      0.374     -2.358      0.018      -1.616      -0.149\n",
      "NUMBER_OF_NAMES                 0.6073      0.086      7.066      0.000       0.439       0.776\n",
      "domain_group                    0.9372      0.076     12.361      0.000       0.789       1.086\n",
      "===============================================================================================\n"
     ]
    }
   ],
   "source": [
    "#Statsmodels 1.1\n",
    "##########Identifying significant variables for model building\n",
    "\n",
    "# Step 1: build a model\n",
    "lm_best = smf.logit(formula =  \"\"\"CROSS_SELL_SUCCESS ~  TOTAL_MEALS_ORDERED +\n",
    "                                                        CONTACTS_W_CUSTOMER_SERVICE +\n",
    "                                                        MOBILE_NUMBER +\n",
    "                                                        CANCELLATIONS_BEFORE_NOON +\n",
    "                                                        CANCELLATIONS_AFTER_NOON +\n",
    "                                                        TASTES_AND_PREFERENCES +\n",
    "                                                        PC_LOGINS +                                                                         \n",
    "                                                        REFRIGERATED_LOCKER +\n",
    "                                                        GENDER_KNOWN +                                                     \n",
    "                                                        log_TOTAL_MEALS_ORDERED +\n",
    "                                                        log_REVENUE +\n",
    "                                                        NUMBER_OF_NAMES +\n",
    "                                                        domain_group\"\"\",\n",
    "                                data = apprentice)\n",
    "\n",
    "\n",
    "# Step 2: fit the model based on the data\n",
    "results = lm_best.fit()\n",
    "\n",
    "\n",
    "\n",
    "# Step 3: analyze the summary output\n",
    "print(results.summary())"
   ]
  },
  {
   "cell_type": "code",
   "execution_count": 24,
   "metadata": {},
   "outputs": [],
   "source": [
    "#Statsmodels 1.2\n",
    "# Creating two lists with all variables and significant variables.\n",
    "\n",
    "logit_full = ['REVENUE', 'TOTAL_MEALS_ORDERED', 'UNIQUE_MEALS_PURCH', \n",
    "              'CONTACTS_W_CUSTOMER_SERVICE', 'PRODUCT_CATEGORIES_VIEWED', \n",
    "              'AVG_TIME_PER_SITE_VISIT', 'MOBILE_NUMBER', 'CANCELLATIONS_BEFORE_NOON', \n",
    "              'CANCELLATIONS_AFTER_NOON', 'TASTES_AND_PREFERENCES', 'PC_LOGINS',              \n",
    "              'MOBILE_LOGINS', 'WEEKLY_PLAN', 'EARLY_DELIVERIES', 'LATE_DELIVERIES', \n",
    "              'PACKAGE_LOCKER', 'REFRIGERATED_LOCKER', 'AVG_PREP_VID_TIME', 'AVERAGE_ORDER_SIZE', \n",
    "              'MASTER_CLASSES_ATTENDED', 'MEDIAN_MEAL_RATING', 'AVG_CLICKS_PER_VISIT', \n",
    "              'TOTAL_PHOTOS_VIEWED', 'm_FAMILY_NAME', 'has_CANCELLATIONS_BEFORE_NOON', \n",
    "              'has_CANCELLATIONS_AFTER_NOON', 'has_MOBILE_LOGINS','GENDER_KNOWN','has_EARLY_DELIVERIES', \n",
    "              'has_LATE_DELIVERIES', 'has_TOTAL_PHOTOS_VIEWED', 'log_AVG_TIME_PER_SITE_VISIT', \n",
    "              'log_TOTAL_MEALS_ORDERED', 'log_REVENUE', 'log_AVG_CLICKS_PER_VISIT', \n",
    "               'domain_group','NUMBER_OF_NAMES']\n",
    "\n",
    "\n",
    "logit_sig = ['TOTAL_MEALS_ORDERED', 'CONTACTS_W_CUSTOMER_SERVICE', 'MOBILE_NUMBER',\n",
    "             'CANCELLATIONS_BEFORE_NOON', 'CANCELLATIONS_AFTER_NOON', \n",
    "             'TASTES_AND_PREFERENCES', 'PC_LOGINS', 'has_MOBILE_LOGINS', \n",
    "              'REFRIGERATED_LOCKER', 'GENDER_KNOWN', 'MOBILE_LOGINS',   \n",
    "              'log_TOTAL_MEALS_ORDERED', 'has_CANCELLATIONS_BEFORE_NOON',\n",
    "             'log_REVENUE', 'domain_group','NUMBER_OF_NAMES']\n",
    "\n",
    "apprentice_data = apprentice.loc[:,logit_full]\n",
    "apprentice_target = apprentice.loc[:,'CROSS_SELL_SUCCESS']\n"
   ]
  },
  {
   "cell_type": "markdown",
   "metadata": {},
   "source": [
    "We scale all our features so that they are standardized and can be more easily compared with other features."
   ]
  },
  {
   "cell_type": "code",
   "execution_count": 25,
   "metadata": {},
   "outputs": [],
   "source": [
    "##############################################################################\n",
    "\"\"\"                     Further Feature Engineering                        \"\"\"\n",
    "##############################################################################\n",
    "#Scaling variables - Significant\n",
    "\n",
    "# INSTANTIATING StandardScaler()\n",
    "scaler = StandardScaler()\n",
    "\n",
    "# FITTING the data\n",
    "scaler.fit(apprentice_data)\n",
    "\n",
    "\n",
    "# TRANSFORMING the data\n",
    "x_scaled = scaler.transform(apprentice_data)\n",
    "\n",
    "\n",
    "# converting to a DataFrame\n",
    "x_scaled_df  = pd.DataFrame(x_scaled)\n",
    "x_scaled_df.columns = apprentice_data.columns\n",
    "x_scaled_df['CROSS_SELL_SUCCESS'] = apprentice.loc[:,'CROSS_SELL_SUCCESS']\n",
    "\n",
    "# Saving scaled x variables\n",
    "apprentice_data_scaled = x_scaled_df.loc[:,logit_sig]\n",
    "apprentice_data_scaled_full = x_scaled_df.loc[:,logit_full]"
   ]
  },
  {
   "cell_type": "markdown",
   "metadata": {},
   "source": [
    "Now our dataset is ready for building models. We shall split the data into training and testing sets. We will build our model on the training set. We shall split the data twice. The first training-testing set will contain only statistically significant features, i.e, they have a p-value below 0.05. The second training-testing set will contain all the features of the dataset. We will use CROSS_SELL_SUCCESS as our dependent variable."
   ]
  },
  {
   "cell_type": "code",
   "execution_count": 26,
   "metadata": {},
   "outputs": [],
   "source": [
    "##############################################################################\n",
    "\"\"\"                         Train & Test Split                             \"\"\"\n",
    "##############################################################################\n",
    "# Splitting data using scaled x variables and CROSS SELL SUCCESS\n",
    "\n",
    "x_train, x_test, y_train, y_test = train_test_split(\n",
    "            apprentice_data_scaled,\n",
    "            apprentice_target,\n",
    "            random_state = 219,\n",
    "            test_size = 0.25,\n",
    "            stratify =apprentice_target )\n",
    "\n",
    "\n",
    "x_train_full, x_test_full, y_train_full, y_test_full = train_test_split(\n",
    "            apprentice_data_scaled_full,\n",
    "            apprentice_target,\n",
    "            random_state = 219,\n",
    "            test_size = 0.25,\n",
    "            stratify =apprentice_target )"
   ]
  },
  {
   "cell_type": "markdown",
   "metadata": {},
   "source": [
    "1) For our first model, we will run K Nearest Neighbors using statistically significant features and CROSS_SELL_SUCCESS as our dependent variable. "
   ]
  },
  {
   "cell_type": "code",
   "execution_count": 27,
   "metadata": {},
   "outputs": [
    {
     "name": "stdout",
     "output_type": "stream",
     "text": [
      "The optimal number of neighbors is: 18\n"
     ]
    }
   ],
   "source": [
    "##############################################################################\n",
    "\"\"\"                      K Nearest Neighbors Model                         \"\"\"\n",
    "##############################################################################\n",
    "\n",
    "# Importing necessary libraries for KNN\n",
    "from sklearn.neighbors import KNeighborsRegressor \n",
    "from sklearn.neighbors import KNeighborsClassifier\n",
    "from sklearn.metrics import roc_auc_score\n",
    "\n",
    "# Finding the optimal neighbors using UDF optimal_neighbors\n",
    "opt_neighbors= optimal_neighbors(x_data=apprentice_data_scaled,\n",
    "                      y_data=apprentice_target,\n",
    "                      standardize = False,\n",
    "                      pct_test=0.25,\n",
    "                      seed=219,\n",
    "                      response_type='class',\n",
    "                      max_neighbors=20,\n",
    "                      show_viz=False)"
   ]
  },
  {
   "cell_type": "code",
   "execution_count": 28,
   "metadata": {},
   "outputs": [
    {
     "name": "stdout",
     "output_type": "stream",
     "text": [
      "Training ACCURACY: 0.7306\n",
      "Testing  ACCURACY: 0.7228\n",
      "AUC Score        : 0.5978\n"
     ]
    }
   ],
   "source": [
    "# KNN 1.1\n",
    "# KNN scaled\n",
    "\n",
    "# INSTANTIATING a KNN classification model with optimal neighbors\n",
    "knn_opt = KNeighborsClassifier(n_neighbors = opt_neighbors)\n",
    "\n",
    "\n",
    "# FITTING the training data\n",
    "knn_fit = knn_opt.fit(x_train, y_train)\n",
    "\n",
    "\n",
    "# PREDICTING based on the testing set\n",
    "knn_pred = knn_fit.predict(x_test)\n",
    "\n",
    "\n",
    "# SCORING the results\n",
    "print('Training ACCURACY:', knn_fit.score(x_train, y_train).round(4))\n",
    "print('Testing  ACCURACY:', knn_fit.score(x_test, y_test).round(4))\n",
    "print('AUC Score        :', roc_auc_score(y_true  = y_test,\n",
    "                                          y_score = knn_pred).round(4))\n",
    "\n",
    "\n",
    "# saving scoring data\n",
    "knn_train_score = knn_fit.score(x_train, y_train).round(4)\n",
    "knn_test_score  = knn_fit.score(x_test, y_test).round(4)\n",
    "\n",
    "\n",
    "# saving AUC score\n",
    "knn_auc_score   = roc_auc_score(y_true  = y_test,\n",
    "                                          y_score = knn_pred).round(4)"
   ]
  },
  {
   "cell_type": "code",
   "execution_count": 29,
   "metadata": {},
   "outputs": [
    {
     "name": "stdout",
     "output_type": "stream",
     "text": [
      "\n",
      "True Negatives : 39\n",
      "False Positives: 117\n",
      "False Negatives: 18\n",
      "True Positives : 313\n",
      "\n"
     ]
    }
   ],
   "source": [
    "# KNN 1.2\n",
    "# importing necessary libraries for confusion matrix\n",
    "from sklearn.metrics import confusion_matrix\n",
    "# unpacking the confusion matrix\n",
    "KNN_tree_tn, \\\n",
    "KNN_tree_fp, \\\n",
    "KNN_tree_fn, \\\n",
    "KNN_tree_tp = confusion_matrix(y_true = y_test, y_pred = knn_pred).ravel()\n",
    "\n",
    "\n",
    "# printing each result one-by-one\n",
    "print(f\"\"\"\n",
    "True Negatives : {KNN_tree_tn}\n",
    "False Positives: {KNN_tree_fp}\n",
    "False Negatives: {KNN_tree_fn}\n",
    "True Positives : {KNN_tree_tp}\n",
    "\"\"\")\n",
    "\n",
    "KNN = [KNN_tree_tn,\n",
    "KNN_tree_fp,\n",
    "KNN_tree_fn,\n",
    "KNN_tree_tp]"
   ]
  },
  {
   "cell_type": "markdown",
   "metadata": {},
   "source": [
    "2) For our second model, we will run logistic regression using statistically significant features and CROSS_SELL_SUCCESS as our dependent variable. "
   ]
  },
  {
   "cell_type": "code",
   "execution_count": 30,
   "metadata": {},
   "outputs": [
    {
     "name": "stdout",
     "output_type": "stream",
     "text": [
      "Training ACCURACY: 0.7395\n",
      "Testing  ACCURACY: 0.7536\n",
      "0.6747\n"
     ]
    }
   ],
   "source": [
    "##############################################################################\n",
    "\"\"\"               Logistic Regression in scikit learn                      \"\"\"\n",
    "##############################################################################\n",
    "# Importing necessary libraries for logistic regression\n",
    "\n",
    "from sklearn.linear_model import LogisticRegression\n",
    "\n",
    "# INSTANTIATING a logistic regression model\n",
    "logreg = LogisticRegression(solver = 'lbfgs',\n",
    "                            C = 1,\n",
    "                            random_state = 219)\n",
    "\n",
    "\n",
    "# FITTING the training data\n",
    "logreg_fit = logreg.fit(x_train, y_train)\n",
    "\n",
    "\n",
    "# PREDICTING based on the testing set\n",
    "logreg_pred = logreg_fit.predict(x_test)\n",
    "\n",
    "\n",
    "# SCORING the results\n",
    "print('Training ACCURACY:', logreg_fit.score(x_train, y_train).round(4))\n",
    "print('Testing  ACCURACY:', logreg_fit.score(x_test, y_test).round(4))\n",
    "\n",
    "\n",
    "# saving scoring data for future use\n",
    "logreg_train_score = logreg_fit.score(x_train, y_train).round(4) # accuracy\n",
    "logreg_test_score  = logreg_fit.score(x_test, y_test).round(4) # accuracy\n",
    "# area under the roc curve (auc)\n",
    "print(roc_auc_score(y_true  = y_test,\n",
    "                    y_score = logreg_pred).round(decimals = 4))\n",
    "\n",
    "\n",
    "# saving AUC score for future use\n",
    "logreg_auc_score = roc_auc_score(y_true  = y_test,\n",
    "                                 y_score = logreg_pred).round(decimals = 4)"
   ]
  },
  {
   "cell_type": "code",
   "execution_count": 31,
   "metadata": {},
   "outputs": [
    {
     "name": "stdout",
     "output_type": "stream",
     "text": [
      "\n",
      "True Negatives : 71\n",
      "False Positives: 85\n",
      "False Negatives: 35\n",
      "True Positives : 296\n",
      "\n"
     ]
    }
   ],
   "source": [
    "# Logistic Regression 1.2\n",
    "# importing necessary libraries for confusion matrix\n",
    "\n",
    "# unpacking the confusion matrix\n",
    "logreg_tn, \\\n",
    "logreg_fp, \\\n",
    "logreg_fn, \\\n",
    "logreg_tp = confusion_matrix(y_true = y_test, y_pred = logreg_pred).ravel()\n",
    "\n",
    "\n",
    "# printing each result one-by-one\n",
    "print(f\"\"\"\n",
    "True Negatives : {logreg_tn}\n",
    "False Positives: {logreg_fp}\n",
    "False Negatives: {logreg_fn}\n",
    "True Positives : {logreg_tp}\n",
    "\"\"\")\n",
    "\n",
    "logreg_con = [logreg_tn,\n",
    "logreg_fp,\n",
    "logreg_fn,\n",
    "logreg_tp]"
   ]
  },
  {
   "cell_type": "markdown",
   "metadata": {},
   "source": [
    "3) For our third model, we will run a Decision Tree Model using statistically significant features and CROSS_SELL_SUCCESS as our dependent variable. "
   ]
  },
  {
   "cell_type": "code",
   "execution_count": 32,
   "metadata": {},
   "outputs": [
    {
     "name": "stdout",
     "output_type": "stream",
     "text": [
      "Training ACCURACY: 0.7375\n",
      "Testing  ACCURACY: 0.7598\n",
      "AUC Score        : 0.7267\n"
     ]
    }
   ],
   "source": [
    "##############################################################################\n",
    "\"\"\"                         Decision Tree Model                            \"\"\"\n",
    "##############################################################################\n",
    "\n",
    "# INSTANTIATING a classification tree object\n",
    "tree_pruned = DecisionTreeClassifier(max_depth=3,\n",
    "                    min_samples_leaf=25,\n",
    "                    random_state = 219)\n",
    "\n",
    "\n",
    "# FITTING the training data\n",
    "tree_pruned_fit = tree_pruned.fit(x_train, y_train)\n",
    "\n",
    "\n",
    "# PREDICTING on new data\n",
    "tree_pred = tree_pruned_fit.predict(x_test)\n",
    "\n",
    "\n",
    "# SCORING the model\n",
    "print('Training ACCURACY:', tree_pruned_fit.score(x_train, y_train).round(4))\n",
    "print('Testing  ACCURACY:', tree_pruned_fit.score(x_test, y_test).round(4))\n",
    "print('AUC Score        :', roc_auc_score(y_true  = y_test,\n",
    "                                          y_score = tree_pred).round(4))\n",
    "\n",
    "\n",
    "# saving scoring data for future use\n",
    "pruned_tree_train_score = tree_pruned_fit.score(x_train, y_train).round(4) # accuracy\n",
    "pruned_tree_test_score  = tree_pruned_fit.score(x_test, y_test).round(4) # accuracy\n",
    "\n",
    "\n",
    "# saving auc score\n",
    "pruned_tree_auc_score   = roc_auc_score(y_true  = y_test,\n",
    "                                        y_score = tree_pred).round(4) # auc"
   ]
  },
  {
   "cell_type": "code",
   "execution_count": 33,
   "metadata": {},
   "outputs": [
    {
     "name": "stdout",
     "output_type": "stream",
     "text": [
      "\n",
      "True Negatives : 99\n",
      "False Positives: 57\n",
      "False Negatives: 60\n",
      "True Positives : 271\n",
      "\n"
     ]
    }
   ],
   "source": [
    "# Decision Tree 1.1\n",
    "# importing necessary libraries for confusion matrix\n",
    "from sklearn.metrics import confusion_matrix\n",
    "# unpacking the confusion matrix\n",
    "pruned_tree_tn, \\\n",
    "pruned_tree_fp, \\\n",
    "pruned_tree_fn, \\\n",
    "pruned_tree_tp = confusion_matrix(y_true = y_test, y_pred = tree_pred).ravel()\n",
    "\n",
    "\n",
    "# printing each result one-by-one\n",
    "print(f\"\"\"\n",
    "True Negatives : {pruned_tree_tn}\n",
    "False Positives: {pruned_tree_fp}\n",
    "False Negatives: {pruned_tree_fn}\n",
    "True Positives : {pruned_tree_tp}\n",
    "\"\"\")\n",
    "\n",
    "pruned_tree = [pruned_tree_tn,\n",
    "pruned_tree_fp,\n",
    "pruned_tree_fn,\n",
    "pruned_tree_tp]"
   ]
  },
  {
   "cell_type": "code",
   "execution_count": 34,
   "metadata": {},
   "outputs": [],
   "source": [
    "# Decision tree 1.2\n",
    "# calling display_tree\n",
    "#display_tree(tree       = tree_pruned_fit,\n",
    " #            feature_df = x_train)"
   ]
  },
  {
   "cell_type": "code",
   "execution_count": 35,
   "metadata": {},
   "outputs": [],
   "source": [
    "# Decision Tree 1.4\n",
    "# plotting feature importance\n",
    "#plot_feature_importances(tree_pruned_fit,\n",
    "#                         train  = x_train,\n",
    "#                         export = False)"
   ]
  },
  {
   "cell_type": "markdown",
   "metadata": {},
   "source": [
    "4) & 5) For our fourth and fifth models, we will rerun our Logistic Regression after Hyperparameter tuning. We will apply the model with statistically significant features and also the full dataset having CROSS_SELL_SUCCESS as our dependent variable. "
   ]
  },
  {
   "cell_type": "code",
   "execution_count": 36,
   "metadata": {},
   "outputs": [
    {
     "data": {
      "text/plain": [
       "'           Hyperparameter Tuning for Logistic Regression             '"
      ]
     },
     "execution_count": 36,
     "metadata": {},
     "output_type": "execute_result"
    }
   ],
   "source": [
    "# ###########################################################################\n",
    "\"\"\"           Hyperparameter Tuning for Logistic Regression             \"\"\"\n",
    "##############################################################################\n",
    "\n",
    "# RandomizedSearchCV for Logistic Regression\n",
    "############################################\n",
    "\n",
    "# declaring a hyperparameter space\n",
    "#C_space          = [2]\n",
    "#warm_start_space = [True]\n",
    "#solver_space     = ['lbfgs','newton-cg','sag']\n",
    "\n",
    "\n",
    "# creating a hyperparameter grid\n",
    "#param_grid = {'C'          : C_space,\n",
    "             # 'warm_start' : warm_start_space,\n",
    "              #'solver'     : solver_space}\n",
    "\n",
    "\n",
    "# INSTANTIATING the model object without hyperparameters\n",
    "#lr_tuned = LogisticRegression(random_state = 219,\n",
    "                             # max_iter     = 1000)\n",
    "\n",
    "\n",
    "# GridSearchCV object\n",
    "#lr_tuned_cv = RandomizedSearchCV(estimator           = lr_tuned,   # the model object\n",
    "                                # param_distributions = param_grid, # parameters to tune\n",
    "                                # cv                  = 3,          # how many folds in cross-validation\n",
    "                                # n_iter              = 500,        # number of combinations of hyperparameters to try\n",
    "                                # random_state        = 219,        # starting point for random sequence\n",
    "                                # scoring = make_scorer(\n",
    "                                      #     roc_auc_score,\n",
    "                                       #    needs_threshold = False)) # scoring criteria (AUC)\n",
    "\n",
    "\n",
    "# FITTING to the FULL DATASET (due to cross-validation)\n",
    "#lr_tuned_cv.fit(apprentice_data_scaled, apprentice_target)\n",
    "\n",
    "\n",
    "# PREDICT step is not needed\n",
    "\n",
    "\n",
    "# printing the optimal parameters and best score\n",
    "#print(\"Tuned Parameters  :\", lr_tuned_cv.best_params_)\n",
    "#print(\"Tuned CV AUC      :\", lr_tuned_cv.best_score_.round(4))"
   ]
  },
  {
   "cell_type": "code",
   "execution_count": 37,
   "metadata": {},
   "outputs": [],
   "source": [
    "# Hyperparameter 1.1\n",
    "# checking the best estimator for the model\n",
    "#lr_tuned_cv.best_estimator_"
   ]
  },
  {
   "cell_type": "code",
   "execution_count": 38,
   "metadata": {},
   "outputs": [
    {
     "name": "stdout",
     "output_type": "stream",
     "text": [
      "Training ACCURACY: 0.743\n",
      "Testing  ACCURACY: 0.7536\n",
      "AUC Score        : 0.6713\n"
     ]
    }
   ],
   "source": [
    "# Hyperparameter 1.2\n",
    "# building a model based on hyperparameter tuning results\n",
    "\n",
    "# INSTANTIATING a logistic regression model with tuned values\n",
    "lr_tuned = LogisticRegression(C=2, max_iter=1000, random_state=219, warm_start=True)\n",
    "\n",
    "\n",
    "# FIT step is not needed\n",
    "lr_tuned.fit(apprentice_data_scaled, apprentice_target)\n",
    "\n",
    "# PREDICTING based on the testing set\n",
    "lr_tuned_pred = lr_tuned.predict(x_test)\n",
    "\n",
    "\n",
    "# SCORING the results\n",
    "print('Training ACCURACY:', lr_tuned.score(x_train, y_train).round(4))\n",
    "print('Testing  ACCURACY:', lr_tuned.score(x_test, y_test).round(4))\n",
    "print('AUC Score        :', roc_auc_score(y_true  = y_test,\n",
    "                                  y_score = lr_tuned_pred).round(4))\n",
    "\n",
    "\n",
    "# saving scoring data for future use\n",
    "lr_tuned_train_score = lr_tuned.score(x_train, y_train).round(4) # accuracy\n",
    "lr_tuned_test_score  = lr_tuned.score(x_test, y_test).round(4)   # accuracy\n",
    "\n",
    "\n",
    "# saving the AUC score\n",
    "lr_tuned_auc         = roc_auc_score(y_true  = y_test,\n",
    "                                     y_score = lr_tuned_pred).round(4) # auc"
   ]
  },
  {
   "cell_type": "code",
   "execution_count": 39,
   "metadata": {},
   "outputs": [
    {
     "name": "stdout",
     "output_type": "stream",
     "text": [
      "Training ACCURACY: 0.7471\n",
      "Testing  ACCURACY: 0.7618\n",
      "AUC Score        : 0.679\n"
     ]
    }
   ],
   "source": [
    "# Hyperparameter 1.3\n",
    "# building a model based on hyperparameter tuning results (full)\n",
    "\n",
    "# INSTANTIATING a logistic regression model with tuned values\n",
    "lr_tuned_full = LogisticRegression(C=2, max_iter=1000, random_state=219, warm_start=True)\n",
    "\n",
    "\n",
    "# FIT step is not needed\n",
    "lr_tuned_full.fit(apprentice_data_scaled_full, apprentice_target)\n",
    "\n",
    "# PREDICTING based on the testing set\n",
    "lr_tuned_pred_full = lr_tuned_full.predict(x_test_full)\n",
    "\n",
    "\n",
    "# SCORING the results\n",
    "print('Training ACCURACY:', lr_tuned_full.score(x_train_full, y_train_full).round(4))\n",
    "print('Testing  ACCURACY:', lr_tuned_full.score(x_test_full, y_test_full).round(4))\n",
    "print('AUC Score        :', roc_auc_score(y_true  = y_test_full,\n",
    "                                  y_score = lr_tuned_pred_full).round(4))\n",
    "\n",
    "\n",
    "# saving scoring data for future use\n",
    "lr_tuned_train_score_full = lr_tuned_full.score(x_train_full, y_train_full).round(4) # accuracy\n",
    "lr_tuned_test_score_full  = lr_tuned_full.score(x_test_full, y_test_full).round(4)   # accuracy\n",
    "\n",
    "\n",
    "# saving the AUC score\n",
    "lr_tuned_auc_full         = roc_auc_score(y_true  = y_test_full,\n",
    "                                     y_score = lr_tuned_pred_full).round(4) # auc"
   ]
  },
  {
   "cell_type": "code",
   "execution_count": 40,
   "metadata": {},
   "outputs": [
    {
     "name": "stdout",
     "output_type": "stream",
     "text": [
      "\n",
      "True Negatives : 69\n",
      "False Positives: 87\n",
      "False Negatives: 33\n",
      "True Positives : 298\n",
      "\n"
     ]
    }
   ],
   "source": [
    "# Logistic Regression Tuned 1.2\n",
    "# importing necessary libraries for confusion matrix\n",
    "\n",
    "# unpacking the confusion matrix\n",
    "lr_tuned_tn, \\\n",
    "lr_tuned_fp, \\\n",
    "lr_tuned_fn, \\\n",
    "lr_tuned_tp = confusion_matrix(y_true = y_test, y_pred = lr_tuned_pred).ravel()\n",
    "\n",
    "\n",
    "# printing each result one-by-one\n",
    "print(f\"\"\"\n",
    "True Negatives : {lr_tuned_tn}\n",
    "False Positives: {lr_tuned_fp}\n",
    "False Negatives: {lr_tuned_fn}\n",
    "True Positives : {lr_tuned_tp}\n",
    "\"\"\")\n",
    "\n",
    "lr_tuned_con = [lr_tuned_tn,\n",
    "lr_tuned_fp,\n",
    "lr_tuned_fn,\n",
    "lr_tuned_tp]"
   ]
  },
  {
   "cell_type": "code",
   "execution_count": 41,
   "metadata": {},
   "outputs": [
    {
     "name": "stdout",
     "output_type": "stream",
     "text": [
      "\n",
      "True Negatives : 70\n",
      "False Positives: 86\n",
      "False Negatives: 30\n",
      "True Positives : 301\n",
      "\n"
     ]
    }
   ],
   "source": [
    "# Logistic Regression Tuned 1.2\n",
    "# importing necessary libraries for confusion matrix\n",
    "\n",
    "# unpacking the confusion matrix\n",
    "lr_tuned_tn_full, \\\n",
    "lr_tuned_fp_full, \\\n",
    "lr_tuned_fn_full, \\\n",
    "lr_tuned_tp_full = confusion_matrix(y_true = y_test_full, y_pred = lr_tuned_pred_full).ravel()\n",
    "\n",
    "\n",
    "# printing each result one-by-one\n",
    "print(f\"\"\"\n",
    "True Negatives : {lr_tuned_tn_full}\n",
    "False Positives: {lr_tuned_fp_full}\n",
    "False Negatives: {lr_tuned_fn_full}\n",
    "True Positives : {lr_tuned_tp_full}\n",
    "\"\"\")\n",
    "\n",
    "lr_tuned_con_full = [lr_tuned_tn_full,\n",
    "lr_tuned_fp_full,\n",
    "lr_tuned_fn_full,\n",
    "lr_tuned_tp_full]"
   ]
  },
  {
   "cell_type": "markdown",
   "metadata": {},
   "source": [
    "6) & 7) For our sixth and seventh models, we will rerun our Decision tree model after Hyperparameter tuning. We will apply the model with statistically significant features and also the full dataset having CROSS_SELL_SUCCESS as our dependent variable. "
   ]
  },
  {
   "cell_type": "code",
   "execution_count": 42,
   "metadata": {},
   "outputs": [
    {
     "data": {
      "text/plain": [
       "'           Hyperparameter Tuning for Decision Tree             '"
      ]
     },
     "execution_count": 42,
     "metadata": {},
     "output_type": "execute_result"
    }
   ],
   "source": [
    "# ###########################################################################\n",
    "\"\"\"           Hyperparameter Tuning for Decision Tree             \"\"\"\n",
    "##############################################################################\n",
    "\n",
    "# declaring a hyperparameter space\n",
    "#criterion_space = ['gini', 'entropy']\n",
    "#splitter_space  = ['best', 'random']\n",
    "#depth_space     = pd.np.arange(1, 25, 1)\n",
    "#leaf_space      = pd.np.arange(1, 100, 1)\n",
    "\n",
    "\n",
    "# creating a hyperparameter grid\n",
    "#param_grid = {'criterion'        : criterion_space,\n",
    "              #'splitter'         : splitter_space,\n",
    "             # 'max_depth'        : depth_space,\n",
    "             # 'min_samples_leaf' : leaf_space}\n",
    "\n",
    "\n",
    "# INSTANTIATING the model object without hyperparameters\n",
    "#tuned_tree = DecisionTreeClassifier(random_state = 219)\n",
    "\n",
    "\n",
    "# RandomizedSearchCV object\n",
    "#tuned_tree_cv = RandomizedSearchCV(estimator             = tuned_tree,\n",
    "                                  # param_distributions   = param_grid,\n",
    "                                  # cv                    = 3,\n",
    "                                  # n_iter                = 1000,\n",
    "                                  # random_state          = 219,\n",
    "                                 #  scoring = make_scorer(roc_auc_score,\n",
    "                                            # needs_threshold = False))\n",
    "\n",
    "\n",
    "# FITTING to the FULL DATASET (due to cross-validation)\n",
    "#tuned_tree_cv.fit(apprentice_data_scaled, apprentice_target)\n",
    "\n",
    "\n",
    "# PREDICT step is not needed\n",
    "\n",
    "\n",
    "# printing the optimal parameters and best score\n",
    "#print(\"Tuned Parameters  :\", tuned_tree_cv.best_params_)\n",
    "#print(\"Tuned Training AUC:\", tuned_tree_cv.best_score_.round(4))"
   ]
  },
  {
   "cell_type": "code",
   "execution_count": 43,
   "metadata": {},
   "outputs": [
    {
     "name": "stdout",
     "output_type": "stream",
     "text": [
      "Training ACCURACY: 0.7629\n",
      "Testing  ACCURACY: 0.731\n",
      "AUC Score        : 0.653\n"
     ]
    }
   ],
   "source": [
    "# Hyper Tree 1.1 \n",
    "# building a model based on hyperparameter tuning results\n",
    "\n",
    "# INSTANTIATING a logistic regression model with tuned values\n",
    "tree_tuned = DecisionTreeClassifier(splitter = 'best', criterion = 'gini',max_depth=17,\n",
    "                                    min_samples_leaf=30, random_state=219)\n",
    "\n",
    "\n",
    "# FIT step is not needed\n",
    "tree_tuned.fit(x_train, y_train)\n",
    "\n",
    "# PREDICTING based on the testing set\n",
    "tree_tuned_pred = tree_tuned.predict(x_test)\n",
    "\n",
    "\n",
    "# SCORING the results\n",
    "print('Training ACCURACY:', tree_tuned.score(x_train, y_train).round(4))\n",
    "print('Testing  ACCURACY:', tree_tuned.score(x_test, y_test).round(4))\n",
    "print('AUC Score        :', roc_auc_score(y_true  = y_test,\n",
    "                                          y_score = tree_tuned_pred).round(4))\n",
    "\n",
    "\n",
    "# saving scoring data for future use\n",
    "tree_tuned_train_score = tree_tuned.score(x_train, y_train).round(4) # accuracy\n",
    "tree_tuned_test_score  = tree_tuned.score(x_test, y_test).round(4)   # accuracy\n",
    "\n",
    "\n",
    "# saving the AUC score\n",
    "tree_tuned_auc         = roc_auc_score(y_true  = y_test,\n",
    "                                     y_score = tree_tuned_pred).round(4) # auc"
   ]
  },
  {
   "cell_type": "code",
   "execution_count": 44,
   "metadata": {},
   "outputs": [
    {
     "name": "stdout",
     "output_type": "stream",
     "text": [
      "Training ACCURACY: 0.7676\n",
      "Testing  ACCURACY: 0.7926\n",
      "AUC Score        : 0.7271\n"
     ]
    }
   ],
   "source": [
    "# Hyper Tree 1.11 \n",
    "# building a model based on hyperparameter tuning results (full)\n",
    "\n",
    "# INSTANTIATING a logistic regression model with tuned values\n",
    "tree_tuned_full = DecisionTreeClassifier(splitter = 'best', criterion = 'gini',max_depth=17,\n",
    "                                    min_samples_leaf=30, random_state=219)\n",
    "\n",
    "\n",
    "# FIT step is not needed\n",
    "tree_tuned_full.fit(apprentice_data_scaled_full, apprentice_target)\n",
    "\n",
    "# PREDICTING based on the testing set\n",
    "tree_tuned_pred_full = tree_tuned_full.predict(x_test_full)\n",
    "\n",
    "\n",
    "# SCORING the results\n",
    "print('Training ACCURACY:', tree_tuned_full.score(x_train_full, y_train_full).round(4))\n",
    "print('Testing  ACCURACY:', tree_tuned_full.score(x_test_full, y_test_full).round(4))\n",
    "print('AUC Score        :', roc_auc_score(y_true  = y_test_full,\n",
    "                                          y_score = tree_tuned_pred_full).round(4))\n",
    "\n",
    "\n",
    "# saving scoring data for future use\n",
    "tree_tuned_train_score_full = tree_tuned_full.score(x_train_full, y_train_full).round(4) # accuracy\n",
    "tree_tuned_test_score_full  = tree_tuned_full.score(x_test_full, y_test_full).round(4)   # accuracy\n",
    "\n",
    "\n",
    "# saving the AUC score\n",
    "tree_tuned_auc_full         = roc_auc_score(y_true  = y_test_full,\n",
    "                                     y_score = tree_tuned_pred_full).round(4) # auc"
   ]
  },
  {
   "cell_type": "code",
   "execution_count": 45,
   "metadata": {},
   "outputs": [
    {
     "name": "stdout",
     "output_type": "stream",
     "text": [
      "\n",
      "True Negatives : 68\n",
      "False Positives: 88\n",
      "False Negatives: 43\n",
      "True Positives : 288\n",
      "\n"
     ]
    }
   ],
   "source": [
    "# Hyper Tree 1.2\n",
    "# unpacking the confusion matrix\n",
    "tuned_tree_tn, \\\n",
    "tuned_tree_fp, \\\n",
    "tuned_tree_fn, \\\n",
    "tuned_tree_tp = confusion_matrix(y_true = y_test, y_pred = tree_tuned_pred).ravel()\n",
    "\n",
    "\n",
    "# printing each result one-by-one\n",
    "print(f\"\"\"\n",
    "True Negatives : {tuned_tree_tn}\n",
    "False Positives: {tuned_tree_fp}\n",
    "False Negatives: {tuned_tree_fn}\n",
    "True Positives : {tuned_tree_tp}\n",
    "\"\"\")\n",
    "\n",
    "tuned_tree_con = [tuned_tree_tn, \\\n",
    "tuned_tree_fp, \\\n",
    "tuned_tree_fn, \\\n",
    "tuned_tree_tp]"
   ]
  },
  {
   "cell_type": "code",
   "execution_count": 46,
   "metadata": {},
   "outputs": [
    {
     "name": "stdout",
     "output_type": "stream",
     "text": [
      "\n",
      "True Negatives : 85\n",
      "False Positives: 71\n",
      "False Negatives: 30\n",
      "True Positives : 301\n",
      "\n"
     ]
    }
   ],
   "source": [
    "# Hyper Tree 1.21\n",
    "# unpacking the confusion matrix(full)\n",
    "tuned_tree_tn_full, \\\n",
    "tuned_tree_fp_full, \\\n",
    "tuned_tree_fn_full, \\\n",
    "tuned_tree_tp_full = confusion_matrix(y_true = y_test_full, y_pred = tree_tuned_pred_full).ravel()\n",
    "\n",
    "\n",
    "# printing each result one-by-one\n",
    "print(f\"\"\"\n",
    "True Negatives : {tuned_tree_tn_full}\n",
    "False Positives: {tuned_tree_fp_full}\n",
    "False Negatives: {tuned_tree_fn_full}\n",
    "True Positives : {tuned_tree_tp_full}\n",
    "\"\"\")\n",
    "\n",
    "tuned_tree_con_full = [tuned_tree_tn_full, \\\n",
    "tuned_tree_fp_full, \\\n",
    "tuned_tree_fn_full, \\\n",
    "tuned_tree_tp_full]"
   ]
  },
  {
   "cell_type": "code",
   "execution_count": 47,
   "metadata": {},
   "outputs": [],
   "source": [
    "# Hyper Tree 1.3\n",
    "# displaying the tree\n",
    "#display_tree(tree = tree_tuned,\n",
    "#             feature_df = x_train,\n",
    "#             height = 1500,\n",
    " #            width  = 1500)"
   ]
  },
  {
   "cell_type": "code",
   "execution_count": 48,
   "metadata": {},
   "outputs": [],
   "source": [
    "# Hyper Tree 1.31\n",
    "# displaying the tree full\n",
    "#display_tree(tree = tree_tuned_full,\n",
    "#             feature_df = x_train_full,\n",
    "#             height = 1500,\n",
    "#             width  = 1500)"
   ]
  },
  {
   "cell_type": "markdown",
   "metadata": {},
   "source": [
    "8) For our eigth model, we will use Random Forests. We will apply the model with statistically significant features and having CROSS_SELL_SUCCESS as our dependent variable. "
   ]
  },
  {
   "cell_type": "code",
   "execution_count": 49,
   "metadata": {},
   "outputs": [
    {
     "name": "stdout",
     "output_type": "stream",
     "text": [
      "Training ACCURACY: 1.0\n",
      "Testing  ACCURACY: 0.7474\n",
      "AUC Score        : 0.6668\n"
     ]
    }
   ],
   "source": [
    "##############################################################################\n",
    "\"\"\"                              Random Forests                            \"\"\"\n",
    "##############################################################################\n",
    "\n",
    "# INSTANTIATING a random forest model with default values\n",
    "rf_default = RandomForestClassifier(n_estimators     = 100,\n",
    "                                    criterion        = 'gini',\n",
    "                                    max_depth        = None,\n",
    "                                    min_samples_leaf = 1,\n",
    "                                    bootstrap        = True,\n",
    "                                    warm_start       = False,\n",
    "                                    random_state     = 219)\n",
    "\n",
    "\n",
    "# FITTING the training data\n",
    "rf_default_fit = rf_default.fit(x_train, y_train)\n",
    "\n",
    "\n",
    "# PREDICTING based on the testing set\n",
    "rf_default_fit_pred = rf_default_fit.predict(x_test)\n",
    "\n",
    "\n",
    "# SCORING the results\n",
    "print('Training ACCURACY:', rf_default_fit.score(x_train, y_train).round(4))\n",
    "print('Testing  ACCURACY:', rf_default_fit.score(x_test, y_test).round(4))\n",
    "\n",
    "\n",
    "# saving AUC score\n",
    "print('AUC Score        :', roc_auc_score(y_true  = y_test,\n",
    "                                          y_score = rf_default_fit_pred).round(4))"
   ]
  },
  {
   "cell_type": "code",
   "execution_count": 50,
   "metadata": {},
   "outputs": [
    {
     "data": {
      "text/plain": [
       "'                      Random Forest with Hypertuning                    '"
      ]
     },
     "execution_count": 50,
     "metadata": {},
     "output_type": "execute_result"
    }
   ],
   "source": [
    "##############################################################################\n",
    "\"\"\"                      Random Forest with Hypertuning                    \"\"\"\n",
    "##############################################################################\n",
    "# declaring a hyperparameter space\n",
    "#estimator_space  = pd.np.arange(100, 1100, 250)\n",
    "#leaf_space       = pd.np.arange(1, 31, 10)\n",
    "#criterion_space  = ['gini', 'entropy']\n",
    "#bootstrap_space  = [True, False]\n",
    "#warm_start_space = [True, False]\n",
    "\n",
    "\n",
    "# creating a hyperparameter grid\n",
    "#param_grid = {'n_estimators'     : estimator_space,\n",
    "             # 'min_samples_leaf' : leaf_space,\n",
    "             # 'criterion'        : criterion_space,\n",
    "             # 'bootstrap'        : bootstrap_space,\n",
    "             # 'warm_start'       : warm_start_space}\n",
    "\n",
    "\n",
    "# INSTANTIATING the model object without hyperparameters\n",
    "#forest_grid = RandomForestClassifier(random_state = 219)\n",
    "\n",
    "\n",
    "# GridSearchCV object\n",
    "#forest_cv = RandomizedSearchCV(estimator           = forest_grid,\n",
    "                               #param_distributions = param_grid,\n",
    "                               #cv         = 3,\n",
    "                              # n_iter     = 1000,\n",
    "                               #scoring    = make_scorer(roc_auc_score,\n",
    "                                            #needs_threshold = False))\n",
    "\n",
    "\n",
    "# FITTING to the FULL DATASET (due to cross-validation)\n",
    "#forest_cv.fit(apprentice_data_scaled, apprentice_target)\n",
    "\n",
    "\n",
    "# PREDICT step is not needed\n",
    "\n",
    "\n",
    "# printing the optimal parameters and best score\n",
    "#print(\"Tuned Parameters  :\", forest_cv.best_params_)\n",
    "#print(\"Tuned Training AUC:\", forest_cv.best_score_.round(4))"
   ]
  },
  {
   "cell_type": "code",
   "execution_count": 51,
   "metadata": {},
   "outputs": [],
   "source": [
    "#Hyper Random Tree 1.1\n",
    "# best estimators based on RandomizedSearchCV\n",
    "#forest_cv.best_estimator_"
   ]
  },
  {
   "cell_type": "markdown",
   "metadata": {},
   "source": [
    "9) & 10) For our ninth and tenth models, we will rerun our Random Forests after Hyperparameter tuning. We will apply the model with statistically significant features and also the full dataset having CROSS_SELL_SUCCESS as our dependent variable. "
   ]
  },
  {
   "cell_type": "code",
   "execution_count": 52,
   "metadata": {},
   "outputs": [
    {
     "name": "stdout",
     "output_type": "stream",
     "text": [
      "Forest Tuned Training ACCURACY: 0.8191\n",
      "Forest Tuned Testing  ACCURACY: 0.8275\n",
      "Forest Tuned AUC Score        : 0.7579\n"
     ]
    }
   ],
   "source": [
    "#Hyper Random tree 1.2\n",
    "# building a model based on hyperparameter tuning results\n",
    "\n",
    "# copy/pasting in the best_estimator_ results\n",
    "# to avoid running another RandomizedSearch\n",
    "forest_tuned = RandomForestClassifier(bootstrap=False, criterion='entropy',\n",
    "                       min_samples_leaf=11, n_estimators=850, random_state=219,\n",
    "                       warm_start=True)\n",
    "\n",
    "\n",
    "# FITTING the model object\n",
    "forest_tuned_fit = forest_tuned.fit(apprentice_data_scaled, apprentice_target)\n",
    "\n",
    "\n",
    "# PREDICTING based on the testing set\n",
    "forest_tuned_pred = forest_tuned_fit.predict(x_test)\n",
    "\n",
    "\n",
    "# SCORING the results\n",
    "print('Forest Tuned Training ACCURACY:', forest_tuned.score(x_train, y_train).round(4))\n",
    "print('Forest Tuned Testing  ACCURACY:', forest_tuned.score(x_test, y_test).round(4))\n",
    "print('Forest Tuned AUC Score        :', roc_auc_score(y_true  = y_test,\n",
    "                                                       y_score = forest_tuned_pred).round(4))\n",
    "\n",
    "\n",
    "# saving scoring data for future use\n",
    "forest_tuned_train_score = forest_tuned.score(x_train, y_train).round(4) # accuracy\n",
    "forest_tuned_test_score  = forest_tuned.score(x_test, y_test).round(4)   # accuracy\n",
    "\n",
    "\n",
    "# saving the AUC score\n",
    "forest_tuned_auc = roc_auc_score(y_true  = y_test,\n",
    "                                 y_score = forest_tuned_pred).round(4) # auc"
   ]
  },
  {
   "cell_type": "code",
   "execution_count": 53,
   "metadata": {},
   "outputs": [
    {
     "name": "stdout",
     "output_type": "stream",
     "text": [
      "Forest Tuned Training ACCURACY: 0.8574\n",
      "Forest Tuned Testing  ACCURACY: 0.8686\n",
      "Forest Tuned AUC Score        : 0.8033\n"
     ]
    }
   ],
   "source": [
    "#Hyper Random tree 1.21\n",
    "# building a model based on hyperparameter tuning results(full)\n",
    "\n",
    "# copy/pasting in the best_estimator_ results\n",
    "# to avoid running another RandomizedSearch\n",
    "forest_tuned_full = RandomForestClassifier(bootstrap=False, criterion='entropy',\n",
    "                       min_samples_leaf=11, n_estimators=850, random_state=219,\n",
    "                       warm_start=True)\n",
    "\n",
    "\n",
    "# FITTING the model object\n",
    "forest_tuned_fit_full = forest_tuned_full.fit(apprentice_data_scaled_full, apprentice_target)\n",
    "\n",
    "\n",
    "# PREDICTING based on the testing set\n",
    "forest_tuned_pred_full = forest_tuned_fit_full.predict(x_test_full)\n",
    "\n",
    "\n",
    "# SCORING the results\n",
    "print('Forest Tuned Training ACCURACY:', forest_tuned_full.score(x_train_full, y_train_full).round(4))\n",
    "print('Forest Tuned Testing  ACCURACY:', forest_tuned_full.score(x_test_full, y_test_full).round(4))\n",
    "print('Forest Tuned AUC Score        :', roc_auc_score(y_true  = y_test_full,\n",
    "                                                       y_score = forest_tuned_pred_full).round(4))\n",
    "\n",
    "\n",
    "# saving scoring data for future use\n",
    "forest_tuned_train_score_full = forest_tuned_full.score(x_train_full, y_train_full).round(4) # accuracy\n",
    "forest_tuned_test_score_full  = forest_tuned_full.score(x_test_full, y_test_full).round(4)   # accuracy\n",
    "\n",
    "\n",
    "# saving the AUC score\n",
    "forest_tuned_auc_full = roc_auc_score(y_true  = y_test_full,\n",
    "                                 y_score = forest_tuned_pred_full).round(4) # auc"
   ]
  },
  {
   "cell_type": "code",
   "execution_count": 54,
   "metadata": {},
   "outputs": [],
   "source": [
    "# Hyper Random Tree 1.3\n",
    "# plotting feature importances\n",
    "#plot_feature_importances(forest_tuned_fit,\n",
    " #                        train = x_train,\n",
    " #                        export = False)"
   ]
  },
  {
   "cell_type": "code",
   "execution_count": 55,
   "metadata": {},
   "outputs": [
    {
     "name": "stdout",
     "output_type": "stream",
     "text": [
      "\n",
      "True Negatives : 88\n",
      "False Positives: 68\n",
      "False Negatives: 16\n",
      "True Positives : 315\n",
      "\n"
     ]
    }
   ],
   "source": [
    "# Hyper Random Tree 1.4\n",
    "# unpacking the confusion matrix\n",
    "tuned_rf_tn, \\\n",
    "tuned_rf_fp, \\\n",
    "tuned_rf_fn, \\\n",
    "tuned_rf_tp = confusion_matrix(y_true = y_test, y_pred = forest_tuned_pred).ravel()\n",
    "\n",
    "\n",
    "# printing each result one-by-one\n",
    "print(f\"\"\"\n",
    "True Negatives : {tuned_rf_tn}\n",
    "False Positives: {tuned_rf_fp}\n",
    "False Negatives: {tuned_rf_fn}\n",
    "True Positives : {tuned_rf_tp}\n",
    "\"\"\")\n",
    "\n",
    "tuned_rf_con = [tuned_rf_tn, \\\n",
    "tuned_rf_fp, \\\n",
    "tuned_rf_fn, \\\n",
    "tuned_rf_tp]"
   ]
  },
  {
   "cell_type": "code",
   "execution_count": 56,
   "metadata": {},
   "outputs": [
    {
     "name": "stdout",
     "output_type": "stream",
     "text": [
      "\n",
      "True Negatives : 97\n",
      "False Positives: 59\n",
      "False Negatives: 5\n",
      "True Positives : 326\n",
      "\n"
     ]
    }
   ],
   "source": [
    "# Hyper Random Tree 1.41\n",
    "# unpacking the confusion matrix (full)\n",
    "tuned_rf_tn_full, \\\n",
    "tuned_rf_fp_full, \\\n",
    "tuned_rf_fn_full, \\\n",
    "tuned_rf_tp_full = confusion_matrix(y_true = y_test_full, y_pred = forest_tuned_pred_full).ravel()\n",
    "\n",
    "\n",
    "# printing each result one-by-one\n",
    "print(f\"\"\"\n",
    "True Negatives : {tuned_rf_tn_full}\n",
    "False Positives: {tuned_rf_fp_full}\n",
    "False Negatives: {tuned_rf_fn_full}\n",
    "True Positives : {tuned_rf_tp_full}\n",
    "\"\"\")\n",
    "\n",
    "tuned_rf_con_full = [tuned_rf_tn_full, \\\n",
    "tuned_rf_fp_full, \\\n",
    "tuned_rf_fn_full, \\\n",
    "tuned_rf_tp_full]"
   ]
  },
  {
   "cell_type": "markdown",
   "metadata": {},
   "source": [
    "11) & 12) For our eleventh and twelfth models, we will run  a Gradient Boosting Model after Hyperparameter tuning. We will apply the model with statistically significant features and also the full dataset having CROSS_SELL_SUCCESS as our dependent variable. "
   ]
  },
  {
   "cell_type": "code",
   "execution_count": 57,
   "metadata": {},
   "outputs": [
    {
     "data": {
      "text/plain": [
       "'                          GBM Hypertuning                               '"
      ]
     },
     "execution_count": 57,
     "metadata": {},
     "output_type": "execute_result"
    }
   ],
   "source": [
    "##############################################################################\n",
    "\"\"\"                          GBM Hypertuning                               \"\"\"\n",
    "##############################################################################\n",
    "# declaring a hyperparameter space\n",
    "#learn_space        = pd.np.arange(0.1, 2.0, 0.2)\n",
    "#estimator_space    = pd.np.arange(100, 200, 25)\n",
    "#depth_space        = pd.np.arange(1, 20, 2)\n",
    "#warm_start_space   = [True, False]\n",
    "\n",
    "# creating a hyperparameter grid\n",
    "#param_grid = {'learning_rate' : learn_space,\n",
    "             # 'max_depth'     : depth_space,\n",
    "             # 'n_estimators'  : estimator_space,\n",
    "             # 'warm_start'     : warm_start_space}\n",
    "\n",
    "\n",
    "# INSTANTIATING the model object without hyperparameters\n",
    "#full_gbm_grid = GradientBoostingClassifier(random_state = 219)\n",
    "\n",
    "\n",
    "# GridSearchCV object\n",
    "#full_gbm_cv = RandomizedSearchCV(estimator = full_gbm_grid,\n",
    "                                # param_distributions = param_grid,\n",
    "                                # cv                  = 3,\n",
    "                                # n_iter              = 500,\n",
    "                                # random_state        = 219,\n",
    "                               #  scoring             = make_scorer(roc_auc_score,\n",
    "                                                     #  needs_threshold = False))\n",
    "\n",
    "\n",
    "# FITTING to the FULL DATASET (due to cross-validation)\n",
    "#full_gbm_cv.fit(apprentice_data_scaled, apprentice_target)\n",
    "\n",
    "\n",
    "# PREDICT step is not needed\n",
    "\n",
    "\n",
    "# printing the optimal parameters and best score\n",
    "#print(\"Tuned Parameters  :\", full_gbm_cv.best_params_)\n",
    "#print(\"Tuned Training AUC:\", full_gbm_cv.best_score_.round(4))"
   ]
  },
  {
   "cell_type": "code",
   "execution_count": 58,
   "metadata": {},
   "outputs": [],
   "source": [
    "# Hyper GBM 1.1\n",
    "#full_gbm_cv.best_estimator_"
   ]
  },
  {
   "cell_type": "code",
   "execution_count": 59,
   "metadata": {},
   "outputs": [
    {
     "name": "stdout",
     "output_type": "stream",
     "text": [
      "Training ACCURACY: 0.7807\n",
      "Testing  ACCURACY: 0.7474\n",
      "AUC Score        : 0.6651\n"
     ]
    }
   ],
   "source": [
    "# Hyper GBM 1.2\n",
    "# INSTANTIATING the model object without hyperparameters\n",
    "gbm_tuned = GradientBoostingClassifier(learning_rate=0.5000000001, max_depth=1,\n",
    "                           n_estimators=125, random_state=219, warm_start=True)\n",
    "\n",
    "\n",
    "# FIT step is needed as we are not using .best_estimator\n",
    "gbm_tuned_fit = gbm_tuned.fit(x_train, y_train)\n",
    "\n",
    "\n",
    "# PREDICTING based on the testing set\n",
    "gbm_tuned_pred = gbm_tuned_fit.predict(x_test)\n",
    "\n",
    "\n",
    "# SCORING the results\n",
    "print('Training ACCURACY:', gbm_tuned_fit.score(x_train, y_train).round(4))\n",
    "print('Testing  ACCURACY:', gbm_tuned_fit.score(x_test, y_test).round(4))\n",
    "print('AUC Score        :', roc_auc_score(y_true  = y_test,\n",
    "                                          y_score = gbm_tuned_pred).round(4))\n",
    "\n",
    "gbm_tuned_train = gbm_tuned_fit.score(x_train, y_train).round(4)\n",
    "gbm_tuned_test= gbm_tuned_fit.score(x_test, y_test).round(4)\n",
    "gbm_tuned_auc = roc_auc_score(y_true  = y_test,\n",
    "                                          y_score = gbm_tuned_pred).round(4)"
   ]
  },
  {
   "cell_type": "code",
   "execution_count": 60,
   "metadata": {},
   "outputs": [
    {
     "name": "stdout",
     "output_type": "stream",
     "text": [
      "Training ACCURACY: 0.867\n",
      "Testing  ACCURACY: 0.885\n",
      "AUC Score        : 0.8442\n"
     ]
    }
   ],
   "source": [
    "# Hyper GBM 1.21\n",
    "# INSTANTIATING the model object without hyperparameters (full)\n",
    "gbm_tuned_full = GradientBoostingClassifier(learning_rate=0.5000000001, max_depth=2,\n",
    "                           n_estimators=125, random_state=219, warm_start=True)\n",
    "\n",
    "\n",
    "# FIT step is needed as we are not using .best_estimator\n",
    "gbm_tuned_fit_full = gbm_tuned_full.fit(apprentice_data_scaled_full, apprentice_target)\n",
    "\n",
    "\n",
    "# PREDICTING based on the testing set\n",
    "gbm_tuned_pred_full = gbm_tuned_fit_full.predict(x_test_full)\n",
    "\n",
    "\n",
    "# SCORING the results\n",
    "print('Training ACCURACY:', gbm_tuned_fit_full.score(x_train_full, y_train_full).round(4))\n",
    "print('Testing  ACCURACY:', gbm_tuned_fit_full.score(x_test_full, y_test_full).round(4))\n",
    "print('AUC Score        :', roc_auc_score(y_true  = y_test_full,\n",
    "                                          y_score = gbm_tuned_pred_full).round(4))\n",
    "\n",
    "gbm_tuned_train_full = gbm_tuned_fit_full.score(x_train_full, y_train_full).round(4)\n",
    "gbm_tuned_test_full= gbm_tuned_fit_full.score(x_test_full, y_test_full).round(4)\n",
    "gbm_tuned_auc_full = roc_auc_score(y_true  = y_test_full,\n",
    "                                          y_score = gbm_tuned_pred_full).round(4)"
   ]
  },
  {
   "cell_type": "code",
   "execution_count": 61,
   "metadata": {},
   "outputs": [
    {
     "name": "stdout",
     "output_type": "stream",
     "text": [
      "\n",
      "True Negatives : 68\n",
      "False Positives: 88\n",
      "False Negatives: 88\n",
      "True Positives : 88\n",
      "\n"
     ]
    }
   ],
   "source": [
    "# unpacking the confusion matrix\n",
    "gbm_tuned_tn, \\\n",
    "gbm_tuned_fp, \\\n",
    "gbm_tuned_fn, \\\n",
    "gbm_tuned_tp = confusion_matrix(y_true=y_test , y_pred= gbm_tuned_pred).ravel()\n",
    "\n",
    "\n",
    "# printing each result one-by-one\n",
    "print(f\"\"\"\n",
    "True Negatives : {gbm_tuned_tn}\n",
    "False Positives: {gbm_tuned_fp}\n",
    "False Negatives: {gbm_tuned_fp}\n",
    "True Positives : {gbm_tuned_fp}\n",
    "\"\"\")\n",
    "\n",
    "gbm_tuned_con = [gbm_tuned_tn, \n",
    "gbm_tuned_fp, \n",
    "gbm_tuned_fn, \n",
    "gbm_tuned_tp]"
   ]
  },
  {
   "cell_type": "code",
   "execution_count": 65,
   "metadata": {},
   "outputs": [
    {
     "name": "stdout",
     "output_type": "stream",
     "text": [
      "\n",
      "True Negatives : 114\n",
      "False Positives: 42\n",
      "False Negatives: 14\n",
      "True Positives : 317\n",
      "\n"
     ]
    }
   ],
   "source": [
    "# unpacking the confusion matrix (full)\n",
    "gbm_tuned_tn_full, \\\n",
    "gbm_tuned_fp_full, \\\n",
    "gbm_tuned_fn_full, \\\n",
    "gbm_tuned_tp_full = confusion_matrix(y_true=y_test_full , y_pred= gbm_tuned_pred_full).ravel()\n",
    "\n",
    "\n",
    "# printing each result one-by-one\n",
    "print(f\"\"\"\n",
    "True Negatives : {gbm_tuned_tn_full}\n",
    "False Positives: {gbm_tuned_fp_full}\n",
    "False Negatives: {gbm_tuned_fn_full}\n",
    "True Positives : {gbm_tuned_tp_full}\n",
    "\"\"\")\n",
    "\n",
    "gbm_tuned_con_full = [gbm_tuned_tn_full, \n",
    "gbm_tuned_fp_full, \n",
    "gbm_tuned_fn_full, \n",
    "gbm_tuned_tp_full]"
   ]
  },
  {
   "cell_type": "code",
   "execution_count": 63,
   "metadata": {},
   "outputs": [
    {
     "name": "stdout",
     "output_type": "stream",
     "text": [
      "Conclusion:      Choosing GBM model which was tuned based on all variables in the dataset \n",
      "                     and not just significant variables. It has a AUC of 0.8442.\n",
      "                     CROSS_SELL_SUCCESS was the dependant variable.\n"
     ]
    },
    {
     "data": {
      "text/html": [
       "<div>\n",
       "<style scoped>\n",
       "    .dataframe tbody tr th:only-of-type {\n",
       "        vertical-align: middle;\n",
       "    }\n",
       "\n",
       "    .dataframe tbody tr th {\n",
       "        vertical-align: top;\n",
       "    }\n",
       "\n",
       "    .dataframe thead th {\n",
       "        text-align: right;\n",
       "    }\n",
       "</style>\n",
       "<table border=\"1\" class=\"dataframe\">\n",
       "  <thead>\n",
       "    <tr style=\"text-align: right;\">\n",
       "      <th></th>\n",
       "      <th>Model Name</th>\n",
       "      <th>Training Accuracy</th>\n",
       "      <th>Testing Accuracy</th>\n",
       "      <th>AUC Score</th>\n",
       "      <th>Confusion Matrix</th>\n",
       "    </tr>\n",
       "  </thead>\n",
       "  <tbody>\n",
       "    <tr>\n",
       "      <th>0</th>\n",
       "      <td>KNN</td>\n",
       "      <td>0.7306</td>\n",
       "      <td>0.7228</td>\n",
       "      <td>0.5978</td>\n",
       "      <td>[39, 117, 18, 313]</td>\n",
       "    </tr>\n",
       "    <tr>\n",
       "      <th>1</th>\n",
       "      <td>LogReg</td>\n",
       "      <td>0.7395</td>\n",
       "      <td>0.7536</td>\n",
       "      <td>0.6747</td>\n",
       "      <td>[71, 85, 35, 296]</td>\n",
       "    </tr>\n",
       "    <tr>\n",
       "      <th>2</th>\n",
       "      <td>Pruned Tree</td>\n",
       "      <td>0.7375</td>\n",
       "      <td>0.7598</td>\n",
       "      <td>0.7267</td>\n",
       "      <td>[99, 57, 60, 271]</td>\n",
       "    </tr>\n",
       "    <tr>\n",
       "      <th>3</th>\n",
       "      <td>LogReg-Tuned</td>\n",
       "      <td>0.7430</td>\n",
       "      <td>0.7536</td>\n",
       "      <td>0.6713</td>\n",
       "      <td>[69, 87, 33, 298]</td>\n",
       "    </tr>\n",
       "    <tr>\n",
       "      <th>4</th>\n",
       "      <td>Tree Tuned</td>\n",
       "      <td>0.7629</td>\n",
       "      <td>0.7310</td>\n",
       "      <td>0.6530</td>\n",
       "      <td>[68, 88, 43, 288]</td>\n",
       "    </tr>\n",
       "    <tr>\n",
       "      <th>5</th>\n",
       "      <td>Forest Tuned</td>\n",
       "      <td>0.8191</td>\n",
       "      <td>0.8275</td>\n",
       "      <td>0.7579</td>\n",
       "      <td>[88, 68, 16, 315]</td>\n",
       "    </tr>\n",
       "    <tr>\n",
       "      <th>6</th>\n",
       "      <td>GBM-Tuned</td>\n",
       "      <td>0.7807</td>\n",
       "      <td>0.7474</td>\n",
       "      <td>0.6651</td>\n",
       "      <td>[68, 88, 35, 296]</td>\n",
       "    </tr>\n",
       "    <tr>\n",
       "      <th>7</th>\n",
       "      <td>LogReg-Tuned-full</td>\n",
       "      <td>0.7471</td>\n",
       "      <td>0.7618</td>\n",
       "      <td>0.6790</td>\n",
       "      <td>[70, 86, 30, 301]</td>\n",
       "    </tr>\n",
       "    <tr>\n",
       "      <th>8</th>\n",
       "      <td>Tree Tuned-full</td>\n",
       "      <td>0.7676</td>\n",
       "      <td>0.7926</td>\n",
       "      <td>0.7271</td>\n",
       "      <td>[85, 71, 30, 301]</td>\n",
       "    </tr>\n",
       "    <tr>\n",
       "      <th>9</th>\n",
       "      <td>Forest Tuned-full</td>\n",
       "      <td>0.8574</td>\n",
       "      <td>0.8686</td>\n",
       "      <td>0.8033</td>\n",
       "      <td>[97, 59, 5, 326]</td>\n",
       "    </tr>\n",
       "    <tr>\n",
       "      <th>10</th>\n",
       "      <td>GBM-Tuned-full-FINAL MODEL</td>\n",
       "      <td>0.8670</td>\n",
       "      <td>0.8850</td>\n",
       "      <td>0.8442</td>\n",
       "      <td>[114, 42, 14, 317]</td>\n",
       "    </tr>\n",
       "  </tbody>\n",
       "</table>\n",
       "</div>"
      ],
      "text/plain": [
       "                    Model Name  Training Accuracy  Testing Accuracy  AUC Score    Confusion Matrix\n",
       "0                          KNN             0.7306            0.7228     0.5978  [39, 117, 18, 313]\n",
       "1                       LogReg             0.7395            0.7536     0.6747   [71, 85, 35, 296]\n",
       "2                  Pruned Tree             0.7375            0.7598     0.7267   [99, 57, 60, 271]\n",
       "3                 LogReg-Tuned             0.7430            0.7536     0.6713   [69, 87, 33, 298]\n",
       "4                   Tree Tuned             0.7629            0.7310     0.6530   [68, 88, 43, 288]\n",
       "5                 Forest Tuned             0.8191            0.8275     0.7579   [88, 68, 16, 315]\n",
       "6                    GBM-Tuned             0.7807            0.7474     0.6651   [68, 88, 35, 296]\n",
       "7            LogReg-Tuned-full             0.7471            0.7618     0.6790   [70, 86, 30, 301]\n",
       "8              Tree Tuned-full             0.7676            0.7926     0.7271   [85, 71, 30, 301]\n",
       "9            Forest Tuned-full             0.8574            0.8686     0.8033    [97, 59, 5, 326]\n",
       "10  GBM-Tuned-full-FINAL MODEL             0.8670            0.8850     0.8442  [114, 42, 14, 317]"
      ]
     },
     "execution_count": 63,
     "metadata": {},
     "output_type": "execute_result"
    }
   ],
   "source": [
    "##############################################################################\n",
    "\"\"\"                        Model Performance Measured                      \"\"\"\n",
    "##############################################################################\n",
    "# comparing results\n",
    "# creating a dictionary for model results\n",
    "\n",
    "model_performance = {\n",
    "    \n",
    "    'Model Name'    : ['KNN','LogReg','Pruned Tree','LogReg-Tuned',\n",
    "                       'Tree Tuned','Forest Tuned','GBM-Tuned','LogReg-Tuned-full',\n",
    "                       'Tree Tuned-full','Forest Tuned-full','GBM-Tuned-full-FINAL MODEL'],\n",
    "           \n",
    "    'Training Accuracy' : [knn_train_score,logreg_train_score,pruned_tree_train_score,\n",
    "                          lr_tuned_train_score,tree_tuned_train_score,forest_tuned_train_score,\n",
    "                          gbm_tuned_train, lr_tuned_train_score_full,tree_tuned_train_score_full,\n",
    "                           forest_tuned_train_score_full,\n",
    "                          gbm_tuned_train_full],\n",
    "           \n",
    "    'Testing Accuracy'  : [knn_test_score,logreg_test_score,pruned_tree_test_score,\n",
    "                          lr_tuned_test_score,tree_tuned_test_score,forest_tuned_test_score,\n",
    "                          gbm_tuned_test, lr_tuned_test_score_full,tree_tuned_test_score_full,\n",
    "                           forest_tuned_test_score_full,\n",
    "                          gbm_tuned_test_full],\n",
    "                    \n",
    "    'AUC Score' : [knn_auc_score,logreg_auc_score,pruned_tree_auc_score,\n",
    "                  lr_tuned_auc,tree_tuned_auc,forest_tuned_auc,gbm_tuned_auc,\n",
    "                  lr_tuned_auc_full,tree_tuned_auc_full,forest_tuned_auc_full,gbm_tuned_auc_full],\n",
    "                    \n",
    "    'Confusion Matrix' : [KNN, logreg_con,pruned_tree,lr_tuned_con,\n",
    "                         tuned_tree_con,tuned_rf_con,gbm_tuned_con,\n",
    "                         lr_tuned_con_full,\n",
    "                         tuned_tree_con_full,tuned_rf_con_full,gbm_tuned_con_full]}\n",
    "                    \n",
    "    \n",
    "\n",
    "final_models = pd.DataFrame(model_performance)\n",
    "\n",
    "\n",
    "print(\"\"\"Conclusion:      Choosing GBM model which was tuned based on all variables in the dataset \n",
    "                     and not just significant variables. It has a AUC of 0.8442.\n",
    "                     CROSS_SELL_SUCCESS was the dependant variable.\"\"\")\n",
    "final_models.head(n=15)"
   ]
  },
  {
   "cell_type": "markdown",
   "metadata": {},
   "source": [
    "## Conclusion \n",
    "\n",
    "We can see that GBM-Tuned-full-FINAL MODEL provided the best AUC score of 0.8442. The method used was Gradient Boosting with Hyperparameter tuning. It was applied on all features and not just the significant ones. This means that 84% of the time our model produces true positives rather than false positives. It is able to predict the success of the promotional offer correctly 84% of the time."
   ]
  }
 ],
 "metadata": {
  "kernelspec": {
   "display_name": "Python 3",
   "language": "python",
   "name": "python3"
  },
  "language_info": {
   "codemirror_mode": {
    "name": "ipython",
    "version": 3
   },
   "file_extension": ".py",
   "mimetype": "text/x-python",
   "name": "python",
   "nbconvert_exporter": "python",
   "pygments_lexer": "ipython3",
   "version": "3.8.3"
  },
  "toc": {
   "base_numbering": 1,
   "nav_menu": {},
   "number_sections": false,
   "sideBar": true,
   "skip_h1_title": false,
   "title_cell": "Table of Contents",
   "title_sidebar": "Contents",
   "toc_cell": false,
   "toc_position": {},
   "toc_section_display": true,
   "toc_window_display": false
  },
  "varInspector": {
   "cols": {
    "lenName": 16,
    "lenType": 16,
    "lenVar": 40
   },
   "kernels_config": {
    "python": {
     "delete_cmd_postfix": "",
     "delete_cmd_prefix": "del ",
     "library": "var_list.py",
     "varRefreshCmd": "print(var_dic_list())"
    },
    "r": {
     "delete_cmd_postfix": ") ",
     "delete_cmd_prefix": "rm(",
     "library": "var_list.r",
     "varRefreshCmd": "cat(var_dic_list()) "
    }
   },
   "types_to_exclude": [
    "module",
    "function",
    "builtin_function_or_method",
    "instance",
    "_Feature"
   ],
   "window_display": false
  }
 },
 "nbformat": 4,
 "nbformat_minor": 4
}
