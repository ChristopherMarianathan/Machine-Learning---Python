{
 "cells": [
  {
   "cell_type": "markdown",
   "metadata": {},
   "source": [
    "# Analysis Report"
   ]
  },
  {
   "cell_type": "markdown",
   "metadata": {},
   "source": [
    "## Introduction \n",
    "\n",
    "Apprentice Chef provides gourmet meals which require minimal cooking, orderable through online platform or mobile app. The meals are targeted towards working professionals who want to have healthy food but do not have enough time to prepare it. "
   ]
  },
  {
   "cell_type": "code",
   "execution_count": 13,
   "metadata": {},
   "outputs": [],
   "source": [
    "# importing libraries\n",
    "import pandas as pd # data science essentials\n",
    "import matplotlib.pyplot as plt # essential graphical output\n",
    "import seaborn as sns # enhanced graphical output\n",
    "\n",
    "# specifying file name\n",
    "file = './Apprentice_Chef_Dataset.xlsx'\n",
    "\n",
    "# reading the file into Python\n",
    "apprentice = pd.read_excel(io=file)"
   ]
  },
  {
   "cell_type": "markdown",
   "metadata": {},
   "source": [
    "## Revenue\n",
    "Revenue has a positive correlation with Average Preparation Video Time, Median Meal Rating and Total Meals Ordered. It has a negative correlation with Average Clicks Per Visit. For every 1 unit increase in Median Meal Rating, Revenue increases by 8.3%. For every 1 unit increase in Master Classes Attended, Revenue increases by 4.1%. \n",
    "\n",
    "Insights: -\n",
    "\n",
    "1) Increase Median Meal Rating by addressing customer concerns expressed on platforms.\n",
    "\n",
    "2) Make Master Classes more detailed and intricate so that customers feel a greater sense of achievement.\n"
   ]
  },
  {
   "cell_type": "code",
   "execution_count": 3,
   "metadata": {},
   "outputs": [
    {
     "data": {
      "image/png": "[encoded data removed]",
      "text/plain": [
       "<Figure size 864x864 with 1 Axes>"
      ]
     },
     "metadata": {
      "needs_background": "light"
     },
     "output_type": "display_data"
    }
   ],
   "source": [
    "# converting correlation matrix into a DataFrame\n",
    "apprentice_corr = apprentice.corr(method = 'pearson').round(decimals = 2)\n",
    "\n",
    "# specifying plot size (making it bigger)\n",
    "fig, ax = plt.subplots(figsize=(12,12))\n",
    "\n",
    "\n",
    "# developing a spicy heatmap\n",
    "sns.heatmap(data       = apprentice_corr.loc[ ['REVENUE'] , ['AVG_PREP_VID_TIME','MASTER_CLASSES_ATTENDED',\n",
    "                                                            'MEDIAN_MEAL_RATING','AVG_CLICKS_PER_VISIT',\n",
    "                                                             'TOTAL_MEALS_ORDERED'] ],\n",
    "            cmap       = 'coolwarm',    \n",
    "            square     = True,        \n",
    "            annot      = True,          \n",
    "            linecolor  = 'black',      \n",
    "            linewidths = 0.5,\n",
    "            cbar       = False)          \n",
    "\n",
    "\n",
    "# title and displaying the plot\n",
    "plt.title(\"\"\"\n",
    "Correlation Heatmap for Revenue\n",
    "\"\"\")\n",
    "\n",
    "plt.show()"
   ]
  },
  {
   "cell_type": "markdown",
   "metadata": {},
   "source": [
    "## Cross-sell\n",
    "Cross-sell has a good positive correlation with Email Domain, Number of Names a customer has and Cancellations Before Noon. We can predict when Cross-sell would be a success 95% of the time. We can predict when it would be failure 73% of the time. \n",
    "\n",
    "Insights: - \n",
    "\n",
    "1) Send Sales Promotion offers to professional email domains on workdays to boost sales among target market.\n",
    "\n",
    "2) Coordinate logistics to deliver meal sets to working professionals when they get back home and reduce refund for   Cancellations After Noon.\n"
   ]
  },
  {
   "cell_type": "markdown",
   "metadata": {},
   "source": [
    "## Model scores\n",
    "\n",
    "The revenue model’s highest testing R square was 0.681. It had the Log of Revenue as dependent variable. It was built on selected statistically significant variables. The method used was OLS regression.\n",
    "\n",
    "The cross-sell model’s highest AUC score was 0.844. The method used was Gradient Boosting based on hyperparameters. It was built using all variables in the dataset. \n"
   ]
  },
  {
   "cell_type": "markdown",
   "metadata": {},
   "source": [
    "## Conclusion\n",
    "\n",
    "Revenue growth and Cross-sell success seem to be influenced by factors which increase sense of achievement and convenience for working professionals.  Customization of products towards this market could prove beneficial for Apprentice Chef. "
   ]
  }
 ],
 "metadata": {
  "kernelspec": {
   "display_name": "Python 3",
   "language": "python",
   "name": "python3"
  },
  "language_info": {
   "codemirror_mode": {
    "name": "ipython",
    "version": 3
   },
   "file_extension": ".py",
   "mimetype": "text/x-python",
   "name": "python",
   "nbconvert_exporter": "python",
   "pygments_lexer": "ipython3",
   "version": "3.8.3"
  },
  "toc": {
   "base_numbering": 1,
   "nav_menu": {},
   "number_sections": false,
   "sideBar": true,
   "skip_h1_title": false,
   "title_cell": "Table of Contents",
   "title_sidebar": "Contents",
   "toc_cell": false,
   "toc_position": {},
   "toc_section_display": true,
   "toc_window_display": false
  },
  "varInspector": {
   "cols": {
    "lenName": 16,
    "lenType": 16,
    "lenVar": 40
   },
   "kernels_config": {
    "python": {
     "delete_cmd_postfix": "",
     "delete_cmd_prefix": "del ",
     "library": "var_list.py",
     "varRefreshCmd": "print(var_dic_list())"
    },
    "r": {
     "delete_cmd_postfix": ") ",
     "delete_cmd_prefix": "rm(",
     "library": "var_list.r",
     "varRefreshCmd": "cat(var_dic_list()) "
    }
   },
   "types_to_exclude": [
    "module",
    "function",
    "builtin_function_or_method",
    "instance",
    "_Feature"
   ],
   "window_display": false
  }
 },
 "nbformat": 4,
 "nbformat_minor": 4
}
